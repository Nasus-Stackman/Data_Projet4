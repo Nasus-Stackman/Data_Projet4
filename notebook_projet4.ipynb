{
 "cells": [
  {
   "cell_type": "markdown",
   "id": "e7316a32",
   "metadata": {},
   "source": [
    "<div style=\" background-color: RGB(0,114,200);\" >\n",
    "<h1 style=\"margin: auto; padding: 20px 0; color:#fff; text-align: center\">PROJET 4 DATA ANALYST</h1>\n",
    "<h2 style=\"margin: auto; padding: 20px 0; color:#fff; text-align: center\">Réalisez une étude de santé publique avec R ou Python\n",
    "</h2>\n",
    "</div>"
   ]
  },
  {
   "cell_type": "markdown",
   "id": "6e00fa8a",
   "metadata": {},
   "source": [
    "# OBJECTIF DE CE NOTEBOOK\n",
    "\n",
    "Bienvenue dans l'outil plébiscité par les analystes de données Jupyter.\n",
    "\n",
    "Il s'agit d'un outil permettant de mixer et d'alterner codes, textes et graphique.\n",
    "\n",
    "Cet outil est formidable pour plusieurs raisons:\n",
    "\n",
    "+ il permet de tester des lignes de codes au fur et à mesure de votre rédaction, de constater immédiatement le résultat d'un instruction, de la corriger si nécessaire.\n",
    "+ De rédiger du texte pour expliquer l'approche suivie ou les résultats d'une analyse et de le mettre en forme grâce à du code html ou plus simple avec **Markdown**\n",
    "+ d'agrémenter de graphiques\n",
    "\n",
    "Pour vous aider dans vos premiers pas à l'usage de Jupyter et de Python, nous avons rédigé ce notebook en vous indiquant les instructions à suivre.\n",
    "\n",
    "Il vous suffit pour cela de saisir le code Python répondant à l'instruction donnée.\n",
    "\n",
    "Vous verrez de temps à autre le code Python répondant à une instruction donnée mais cela est fait pour vous aider à comprendre la nature du travail qui vous est demandée.\n",
    "\n",
    "Et garder à l'esprit, qu'il n'y a pas de solution unique pour résoudre un problème et qu'il y a autant de résolutions de problèmes que de développeurs ;)...\n",
    "\n"
   ]
  },
  {
   "cell_type": "markdown",
   "id": "9dad8326",
   "metadata": {},
   "source": [
    "<div style=\"background-color: RGB(0,150,250);\" >\n",
    "<h2 style=\"margin: auto; padding: 20px; color:#fff; \">Etape 1 - Importation des librairies et chargement des fichiers</h2>\n",
    "</div>"
   ]
  },
  {
   "cell_type": "markdown",
   "id": "4ee69457",
   "metadata": {},
   "source": [
    "<div style=\"border: 1px solid RGB(0,150,250);\" >\n",
    "<h3 style=\"margin: auto; padding: 20px; color: RGB(0,150,250); \">1.1 - Importation des librairies</h3>\n",
    "</div>"
   ]
  },
  {
   "cell_type": "code",
   "execution_count": 1,
   "id": "ffe62b56",
   "metadata": {},
   "outputs": [],
   "source": [
    "#Importation de la librairie Pandas\n",
    "import pandas as pd\n",
    "import matplotlib.pyplot as plt\n",
    "import seaborn as sns\n",
    "import matplotlib.ticker as ticker"
   ]
  },
  {
   "cell_type": "markdown",
   "id": "8bd8e7ed",
   "metadata": {},
   "source": [
    "<div style=\"border: 1px solid RGB(0,150,250);\" >\n",
    "<h3 style=\"margin: auto; padding: 20px; color: RGB(0,150,250); \">1.2 - Chargement des fichiers Excel</h3>\n",
    "</div>"
   ]
  },
  {
   "cell_type": "code",
   "execution_count": 2,
   "id": "b304f108",
   "metadata": {},
   "outputs": [],
   "source": [
    "#Importation du fichier population.csv\n",
    "population = pd.read_csv('C:/Users/AUCLAIR/Documents/Projet_Data_4/population.csv')\n",
    "\n",
    "#Importation du fichier dispo_alimentaire.csv\n",
    "dispo_alimentaire = pd.read_csv('C:/Users/AUCLAIR/Documents/Projet_Data_4/dispo_alimentaire.csv')\n",
    "\n",
    "#Importation du fichier aide_alimentaire.csv\n",
    "aide_alimentaire = pd.read_csv('C:/Users/AUCLAIR/Documents/Projet_Data_4/aide_alimentaire.csv')\n",
    "\n",
    "#Importation du fichier sous_nutrition.csv\n",
    "sous_nutrition = pd.read_csv('C:/Users/AUCLAIR/Documents/Projet_Data_4/sous_nutrition.csv')"
   ]
  },
  {
   "cell_type": "markdown",
   "id": "1249847a",
   "metadata": {},
   "source": [
    "<div style=\"background-color: RGB(0,150,250);\" >\n",
    "<h2 style=\"margin: auto; padding: 20px; color:#fff; \">Etape 2 - Analyse exploratoire des fichiers</h2>\n",
    "</div>"
   ]
  },
  {
   "cell_type": "markdown",
   "id": "235e6e91",
   "metadata": {},
   "source": [
    "<div style=\"border: 1px solid RGB(0,150,250);\" >\n",
    "<h3 style=\"margin: auto; padding: 20px; color: RGB(0,150,250); \">2.1 - Analyse exploratoire du fichier population</h3>\n",
    "</div>"
   ]
  },
  {
   "cell_type": "code",
   "execution_count": 3,
   "id": "e6b639d2",
   "metadata": {},
   "outputs": [
    {
     "name": "stdout",
     "output_type": "stream",
     "text": [
      "Le tableau comporte 1416 observation(s) ou article(s)\n",
      "Le tableau comporte 3 colonne(s)\n"
     ]
    }
   ],
   "source": [
    "#Afficher les dimensions du dataset\n",
    "print(\"Le tableau comporte {} observation(s) ou article(s)\".format(population.shape[0]))\n",
    "print(\"Le tableau comporte {} colonne(s)\".format(population.shape[1]))"
   ]
  },
  {
   "cell_type": "code",
   "execution_count": 4,
   "id": "f3e289d4-b129-4cab-9134-703e6be01539",
   "metadata": {},
   "outputs": [
    {
     "name": "stdout",
     "output_type": "stream",
     "text": [
      "3\n"
     ]
    }
   ],
   "source": [
    "#Consulter le nombre de colonnes\n",
    "print(population.shape[1])"
   ]
  },
  {
   "cell_type": "code",
   "execution_count": 5,
   "id": "db40dd2f-cd30-4f25-8a35-59e492061f55",
   "metadata": {},
   "outputs": [
    {
     "name": "stdout",
     "output_type": "stream",
     "text": [
      "Zone       object\n",
      "Année       int64\n",
      "Valeur    float64\n",
      "dtype: object\n"
     ]
    }
   ],
   "source": [
    "#La nature des données dans chacune des colonnes\n",
    "print(population.dtypes)"
   ]
  },
  {
   "cell_type": "code",
   "execution_count": 6,
   "id": "fbbdfd5c",
   "metadata": {},
   "outputs": [
    {
     "name": "stdout",
     "output_type": "stream",
     "text": [
      "Zone      1416\n",
      "Année     1416\n",
      "Valeur    1416\n",
      "dtype: int64\n"
     ]
    }
   ],
   "source": [
    "#Le nombre de valeurs présentes dans chacune des colonnes\n",
    "print(population.count())"
   ]
  },
  {
   "cell_type": "code",
   "execution_count": 7,
   "id": "3e50d9e6",
   "metadata": {},
   "outputs": [
    {
     "data": {
      "text/html": [
       "<div>\n",
       "<style scoped>\n",
       "    .dataframe tbody tr th:only-of-type {\n",
       "        vertical-align: middle;\n",
       "    }\n",
       "\n",
       "    .dataframe tbody tr th {\n",
       "        vertical-align: top;\n",
       "    }\n",
       "\n",
       "    .dataframe thead th {\n",
       "        text-align: right;\n",
       "    }\n",
       "</style>\n",
       "<table border=\"1\" class=\"dataframe\">\n",
       "  <thead>\n",
       "    <tr style=\"text-align: right;\">\n",
       "      <th></th>\n",
       "      <th>Zone</th>\n",
       "      <th>Année</th>\n",
       "      <th>Valeur</th>\n",
       "    </tr>\n",
       "  </thead>\n",
       "  <tbody>\n",
       "    <tr>\n",
       "      <th>0</th>\n",
       "      <td>Afghanistan</td>\n",
       "      <td>2013</td>\n",
       "      <td>32269.589</td>\n",
       "    </tr>\n",
       "    <tr>\n",
       "      <th>1</th>\n",
       "      <td>Afghanistan</td>\n",
       "      <td>2014</td>\n",
       "      <td>33370.794</td>\n",
       "    </tr>\n",
       "    <tr>\n",
       "      <th>2</th>\n",
       "      <td>Afghanistan</td>\n",
       "      <td>2015</td>\n",
       "      <td>34413.603</td>\n",
       "    </tr>\n",
       "    <tr>\n",
       "      <th>3</th>\n",
       "      <td>Afghanistan</td>\n",
       "      <td>2016</td>\n",
       "      <td>35383.032</td>\n",
       "    </tr>\n",
       "    <tr>\n",
       "      <th>4</th>\n",
       "      <td>Afghanistan</td>\n",
       "      <td>2017</td>\n",
       "      <td>36296.113</td>\n",
       "    </tr>\n",
       "  </tbody>\n",
       "</table>\n",
       "</div>"
      ],
      "text/plain": [
       "          Zone  Année     Valeur\n",
       "0  Afghanistan   2013  32269.589\n",
       "1  Afghanistan   2014  33370.794\n",
       "2  Afghanistan   2015  34413.603\n",
       "3  Afghanistan   2016  35383.032\n",
       "4  Afghanistan   2017  36296.113"
      ]
     },
     "execution_count": 7,
     "metadata": {},
     "output_type": "execute_result"
    }
   ],
   "source": [
    "#Affichage les 5 premières lignes de la table\n",
    "population.head()"
   ]
  },
  {
   "cell_type": "code",
   "execution_count": 8,
   "id": "ab1a4af4",
   "metadata": {},
   "outputs": [],
   "source": [
    "#Nous allons harmoniser les unités. Pour cela, nous avons décidé de multiplier la population par 1000\n",
    "#Multiplication de la colonne valeur par 1000\n",
    "population['Valeur'] = population['Valeur'] * 1000"
   ]
  },
  {
   "cell_type": "code",
   "execution_count": 9,
   "id": "38836b61",
   "metadata": {},
   "outputs": [],
   "source": [
    "#changement du nom de la colonne Valeur par Population\n",
    "population = population.rename(columns={'Valeur': 'Population'})"
   ]
  },
  {
   "cell_type": "code",
   "execution_count": 10,
   "id": "ff707561",
   "metadata": {},
   "outputs": [
    {
     "data": {
      "text/html": [
       "<div>\n",
       "<style scoped>\n",
       "    .dataframe tbody tr th:only-of-type {\n",
       "        vertical-align: middle;\n",
       "    }\n",
       "\n",
       "    .dataframe tbody tr th {\n",
       "        vertical-align: top;\n",
       "    }\n",
       "\n",
       "    .dataframe thead th {\n",
       "        text-align: right;\n",
       "    }\n",
       "</style>\n",
       "<table border=\"1\" class=\"dataframe\">\n",
       "  <thead>\n",
       "    <tr style=\"text-align: right;\">\n",
       "      <th></th>\n",
       "      <th>Zone</th>\n",
       "      <th>Année</th>\n",
       "      <th>Population</th>\n",
       "    </tr>\n",
       "  </thead>\n",
       "  <tbody>\n",
       "    <tr>\n",
       "      <th>0</th>\n",
       "      <td>Afghanistan</td>\n",
       "      <td>2013</td>\n",
       "      <td>32269589.0</td>\n",
       "    </tr>\n",
       "    <tr>\n",
       "      <th>1</th>\n",
       "      <td>Afghanistan</td>\n",
       "      <td>2014</td>\n",
       "      <td>33370794.0</td>\n",
       "    </tr>\n",
       "    <tr>\n",
       "      <th>2</th>\n",
       "      <td>Afghanistan</td>\n",
       "      <td>2015</td>\n",
       "      <td>34413603.0</td>\n",
       "    </tr>\n",
       "    <tr>\n",
       "      <th>3</th>\n",
       "      <td>Afghanistan</td>\n",
       "      <td>2016</td>\n",
       "      <td>35383032.0</td>\n",
       "    </tr>\n",
       "    <tr>\n",
       "      <th>4</th>\n",
       "      <td>Afghanistan</td>\n",
       "      <td>2017</td>\n",
       "      <td>36296113.0</td>\n",
       "    </tr>\n",
       "  </tbody>\n",
       "</table>\n",
       "</div>"
      ],
      "text/plain": [
       "          Zone  Année  Population\n",
       "0  Afghanistan   2013  32269589.0\n",
       "1  Afghanistan   2014  33370794.0\n",
       "2  Afghanistan   2015  34413603.0\n",
       "3  Afghanistan   2016  35383032.0\n",
       "4  Afghanistan   2017  36296113.0"
      ]
     },
     "execution_count": 10,
     "metadata": {},
     "output_type": "execute_result"
    }
   ],
   "source": [
    "#Affichage les 5 premières lignes de la table pour voir les modifications\n",
    "population.head()"
   ]
  },
  {
   "cell_type": "code",
   "execution_count": 11,
   "id": "5c3ad553-f8a3-434a-adc4-281471a859b4",
   "metadata": {},
   "outputs": [
    {
     "data": {
      "text/plain": [
       "Zone          0\n",
       "Année         0\n",
       "Population    0\n",
       "dtype: int64"
      ]
     },
     "execution_count": 11,
     "metadata": {},
     "output_type": "execute_result"
    }
   ],
   "source": [
    "# Vérification des valeurs manquantes\n",
    "population.isna().sum()"
   ]
  },
  {
   "cell_type": "code",
   "execution_count": 12,
   "id": "ef84c230-2f7b-4ad5-8bee-d0f45730e788",
   "metadata": {},
   "outputs": [
    {
     "name": "stdout",
     "output_type": "stream",
     "text": [
      "Empty DataFrame\n",
      "Columns: [Zone, Année, Population]\n",
      "Index: []\n"
     ]
    }
   ],
   "source": [
    "# Vérification des doublons\n",
    "doublons_population = population[population.duplicated(subset=[\"Zone\", \"Année\"], keep=False)]\n",
    "print(doublons_population)"
   ]
  },
  {
   "cell_type": "code",
   "execution_count": 13,
   "id": "c0645593-d841-43f3-8ba8-6ae34741bfdf",
   "metadata": {},
   "outputs": [],
   "source": [
    "# J'estime que la clé primaire est l'association de \"Zone\" et \"Année\"\n",
    "#Il n'y a pas de valeur manquantes, pas de doublons"
   ]
  },
  {
   "cell_type": "markdown",
   "id": "4224b896",
   "metadata": {},
   "source": [
    "<div style=\"border: 1px solid RGB(0,150,250);\" >\n",
    "<h3 style=\"margin: auto; padding: 20px; color: RGB(0,150,250); \">2.2 - Analyse exploratoire du fichier disponibilité alimentaire</h3>\n",
    "</div>"
   ]
  },
  {
   "cell_type": "code",
   "execution_count": 14,
   "id": "38f5b838",
   "metadata": {},
   "outputs": [
    {
     "data": {
      "text/plain": [
       "(15605, 18)"
      ]
     },
     "execution_count": 14,
     "metadata": {},
     "output_type": "execute_result"
    }
   ],
   "source": [
    "#Afficher les dimensions du dataset\n",
    "dispo_alimentaire.shape"
   ]
  },
  {
   "cell_type": "code",
   "execution_count": 15,
   "id": "99735a22",
   "metadata": {},
   "outputs": [
    {
     "data": {
      "text/plain": [
       "18"
      ]
     },
     "execution_count": 15,
     "metadata": {},
     "output_type": "execute_result"
    }
   ],
   "source": [
    "#Consulter le nombre de colonnes\n",
    "dispo_alimentaire.shape[1]"
   ]
  },
  {
   "cell_type": "code",
   "execution_count": 16,
   "id": "0058032d",
   "metadata": {},
   "outputs": [
    {
     "data": {
      "text/html": [
       "<div>\n",
       "<style scoped>\n",
       "    .dataframe tbody tr th:only-of-type {\n",
       "        vertical-align: middle;\n",
       "    }\n",
       "\n",
       "    .dataframe tbody tr th {\n",
       "        vertical-align: top;\n",
       "    }\n",
       "\n",
       "    .dataframe thead th {\n",
       "        text-align: right;\n",
       "    }\n",
       "</style>\n",
       "<table border=\"1\" class=\"dataframe\">\n",
       "  <thead>\n",
       "    <tr style=\"text-align: right;\">\n",
       "      <th></th>\n",
       "      <th>Zone</th>\n",
       "      <th>Produit</th>\n",
       "      <th>Origine</th>\n",
       "      <th>Aliments pour animaux</th>\n",
       "      <th>Autres Utilisations</th>\n",
       "      <th>Disponibilité alimentaire (Kcal/personne/jour)</th>\n",
       "      <th>Disponibilité alimentaire en quantité (kg/personne/an)</th>\n",
       "      <th>Disponibilité de matière grasse en quantité (g/personne/jour)</th>\n",
       "      <th>Disponibilité de protéines en quantité (g/personne/jour)</th>\n",
       "      <th>Disponibilité intérieure</th>\n",
       "      <th>Exportations - Quantité</th>\n",
       "      <th>Importations - Quantité</th>\n",
       "      <th>Nourriture</th>\n",
       "      <th>Pertes</th>\n",
       "      <th>Production</th>\n",
       "      <th>Semences</th>\n",
       "      <th>Traitement</th>\n",
       "      <th>Variation de stock</th>\n",
       "    </tr>\n",
       "  </thead>\n",
       "  <tbody>\n",
       "    <tr>\n",
       "      <th>0</th>\n",
       "      <td>Afghanistan</td>\n",
       "      <td>Abats Comestible</td>\n",
       "      <td>animale</td>\n",
       "      <td>NaN</td>\n",
       "      <td>NaN</td>\n",
       "      <td>5.0</td>\n",
       "      <td>1.72</td>\n",
       "      <td>0.20</td>\n",
       "      <td>0.77</td>\n",
       "      <td>53.0</td>\n",
       "      <td>NaN</td>\n",
       "      <td>NaN</td>\n",
       "      <td>53.0</td>\n",
       "      <td>NaN</td>\n",
       "      <td>53.0</td>\n",
       "      <td>NaN</td>\n",
       "      <td>NaN</td>\n",
       "      <td>NaN</td>\n",
       "    </tr>\n",
       "    <tr>\n",
       "      <th>1</th>\n",
       "      <td>Afghanistan</td>\n",
       "      <td>Agrumes, Autres</td>\n",
       "      <td>vegetale</td>\n",
       "      <td>NaN</td>\n",
       "      <td>NaN</td>\n",
       "      <td>1.0</td>\n",
       "      <td>1.29</td>\n",
       "      <td>0.01</td>\n",
       "      <td>0.02</td>\n",
       "      <td>41.0</td>\n",
       "      <td>2.0</td>\n",
       "      <td>40.0</td>\n",
       "      <td>39.0</td>\n",
       "      <td>2.0</td>\n",
       "      <td>3.0</td>\n",
       "      <td>NaN</td>\n",
       "      <td>NaN</td>\n",
       "      <td>NaN</td>\n",
       "    </tr>\n",
       "    <tr>\n",
       "      <th>2</th>\n",
       "      <td>Afghanistan</td>\n",
       "      <td>Aliments pour enfants</td>\n",
       "      <td>vegetale</td>\n",
       "      <td>NaN</td>\n",
       "      <td>NaN</td>\n",
       "      <td>1.0</td>\n",
       "      <td>0.06</td>\n",
       "      <td>0.01</td>\n",
       "      <td>0.03</td>\n",
       "      <td>2.0</td>\n",
       "      <td>NaN</td>\n",
       "      <td>2.0</td>\n",
       "      <td>2.0</td>\n",
       "      <td>NaN</td>\n",
       "      <td>NaN</td>\n",
       "      <td>NaN</td>\n",
       "      <td>NaN</td>\n",
       "      <td>NaN</td>\n",
       "    </tr>\n",
       "    <tr>\n",
       "      <th>3</th>\n",
       "      <td>Afghanistan</td>\n",
       "      <td>Ananas</td>\n",
       "      <td>vegetale</td>\n",
       "      <td>NaN</td>\n",
       "      <td>NaN</td>\n",
       "      <td>0.0</td>\n",
       "      <td>0.00</td>\n",
       "      <td>NaN</td>\n",
       "      <td>NaN</td>\n",
       "      <td>0.0</td>\n",
       "      <td>NaN</td>\n",
       "      <td>0.0</td>\n",
       "      <td>0.0</td>\n",
       "      <td>NaN</td>\n",
       "      <td>NaN</td>\n",
       "      <td>NaN</td>\n",
       "      <td>NaN</td>\n",
       "      <td>NaN</td>\n",
       "    </tr>\n",
       "    <tr>\n",
       "      <th>4</th>\n",
       "      <td>Afghanistan</td>\n",
       "      <td>Bananes</td>\n",
       "      <td>vegetale</td>\n",
       "      <td>NaN</td>\n",
       "      <td>NaN</td>\n",
       "      <td>4.0</td>\n",
       "      <td>2.70</td>\n",
       "      <td>0.02</td>\n",
       "      <td>0.05</td>\n",
       "      <td>82.0</td>\n",
       "      <td>NaN</td>\n",
       "      <td>82.0</td>\n",
       "      <td>82.0</td>\n",
       "      <td>NaN</td>\n",
       "      <td>NaN</td>\n",
       "      <td>NaN</td>\n",
       "      <td>NaN</td>\n",
       "      <td>NaN</td>\n",
       "    </tr>\n",
       "  </tbody>\n",
       "</table>\n",
       "</div>"
      ],
      "text/plain": [
       "          Zone                Produit   Origine  Aliments pour animaux  \\\n",
       "0  Afghanistan       Abats Comestible   animale                    NaN   \n",
       "1  Afghanistan        Agrumes, Autres  vegetale                    NaN   \n",
       "2  Afghanistan  Aliments pour enfants  vegetale                    NaN   \n",
       "3  Afghanistan                 Ananas  vegetale                    NaN   \n",
       "4  Afghanistan                Bananes  vegetale                    NaN   \n",
       "\n",
       "   Autres Utilisations  Disponibilité alimentaire (Kcal/personne/jour)  \\\n",
       "0                  NaN                                             5.0   \n",
       "1                  NaN                                             1.0   \n",
       "2                  NaN                                             1.0   \n",
       "3                  NaN                                             0.0   \n",
       "4                  NaN                                             4.0   \n",
       "\n",
       "   Disponibilité alimentaire en quantité (kg/personne/an)  \\\n",
       "0                                               1.72        \n",
       "1                                               1.29        \n",
       "2                                               0.06        \n",
       "3                                               0.00        \n",
       "4                                               2.70        \n",
       "\n",
       "   Disponibilité de matière grasse en quantité (g/personne/jour)  \\\n",
       "0                                               0.20               \n",
       "1                                               0.01               \n",
       "2                                               0.01               \n",
       "3                                                NaN               \n",
       "4                                               0.02               \n",
       "\n",
       "   Disponibilité de protéines en quantité (g/personne/jour)  \\\n",
       "0                                               0.77          \n",
       "1                                               0.02          \n",
       "2                                               0.03          \n",
       "3                                                NaN          \n",
       "4                                               0.05          \n",
       "\n",
       "   Disponibilité intérieure  Exportations - Quantité  Importations - Quantité  \\\n",
       "0                      53.0                      NaN                      NaN   \n",
       "1                      41.0                      2.0                     40.0   \n",
       "2                       2.0                      NaN                      2.0   \n",
       "3                       0.0                      NaN                      0.0   \n",
       "4                      82.0                      NaN                     82.0   \n",
       "\n",
       "   Nourriture  Pertes  Production  Semences  Traitement  Variation de stock  \n",
       "0        53.0     NaN        53.0       NaN         NaN                 NaN  \n",
       "1        39.0     2.0         3.0       NaN         NaN                 NaN  \n",
       "2         2.0     NaN         NaN       NaN         NaN                 NaN  \n",
       "3         0.0     NaN         NaN       NaN         NaN                 NaN  \n",
       "4        82.0     NaN         NaN       NaN         NaN                 NaN  "
      ]
     },
     "execution_count": 16,
     "metadata": {},
     "output_type": "execute_result"
    }
   ],
   "source": [
    "#Affichage les 5 premières lignes de la table\n",
    "dispo_alimentaire.head()"
   ]
  },
  {
   "cell_type": "code",
   "execution_count": 17,
   "id": "db4432e3",
   "metadata": {},
   "outputs": [],
   "source": [
    "#multiplication de toutes les lignes contenant des milliers de tonnes en Kg\n",
    "dispo_alimentaire.iloc[:, 3:5] =  dispo_alimentaire.iloc[:, 3:5]* 1_000_000\n",
    "dispo_alimentaire.iloc[:, 9:19] =  dispo_alimentaire.iloc[:, 9:19]* 1_000_000"
   ]
  },
  {
   "cell_type": "code",
   "execution_count": 18,
   "id": "f3832569",
   "metadata": {},
   "outputs": [],
   "source": [
    "#remplacement des NaN dans le dataset par des 0\n",
    "dispo_alimentaire = dispo_alimentaire.fillna(0)"
   ]
  },
  {
   "cell_type": "code",
   "execution_count": 19,
   "id": "7f1689bf",
   "metadata": {},
   "outputs": [
    {
     "data": {
      "text/html": [
       "<div>\n",
       "<style scoped>\n",
       "    .dataframe tbody tr th:only-of-type {\n",
       "        vertical-align: middle;\n",
       "    }\n",
       "\n",
       "    .dataframe tbody tr th {\n",
       "        vertical-align: top;\n",
       "    }\n",
       "\n",
       "    .dataframe thead th {\n",
       "        text-align: right;\n",
       "    }\n",
       "</style>\n",
       "<table border=\"1\" class=\"dataframe\">\n",
       "  <thead>\n",
       "    <tr style=\"text-align: right;\">\n",
       "      <th></th>\n",
       "      <th>Zone</th>\n",
       "      <th>Produit</th>\n",
       "      <th>Origine</th>\n",
       "      <th>Aliments pour animaux</th>\n",
       "      <th>Autres Utilisations</th>\n",
       "      <th>Disponibilité alimentaire (Kcal/personne/jour)</th>\n",
       "      <th>Disponibilité alimentaire en quantité (kg/personne/an)</th>\n",
       "      <th>Disponibilité de matière grasse en quantité (g/personne/jour)</th>\n",
       "      <th>Disponibilité de protéines en quantité (g/personne/jour)</th>\n",
       "      <th>Disponibilité intérieure</th>\n",
       "      <th>Exportations - Quantité</th>\n",
       "      <th>Importations - Quantité</th>\n",
       "      <th>Nourriture</th>\n",
       "      <th>Pertes</th>\n",
       "      <th>Production</th>\n",
       "      <th>Semences</th>\n",
       "      <th>Traitement</th>\n",
       "      <th>Variation de stock</th>\n",
       "    </tr>\n",
       "  </thead>\n",
       "  <tbody>\n",
       "    <tr>\n",
       "      <th>0</th>\n",
       "      <td>Afghanistan</td>\n",
       "      <td>Abats Comestible</td>\n",
       "      <td>animale</td>\n",
       "      <td>0.0</td>\n",
       "      <td>0.0</td>\n",
       "      <td>5.0</td>\n",
       "      <td>1.72</td>\n",
       "      <td>0.20</td>\n",
       "      <td>0.77</td>\n",
       "      <td>53000000.0</td>\n",
       "      <td>0.0</td>\n",
       "      <td>0.0</td>\n",
       "      <td>53000000.0</td>\n",
       "      <td>0.0</td>\n",
       "      <td>53000000.0</td>\n",
       "      <td>0.0</td>\n",
       "      <td>0.0</td>\n",
       "      <td>0.0</td>\n",
       "    </tr>\n",
       "    <tr>\n",
       "      <th>1</th>\n",
       "      <td>Afghanistan</td>\n",
       "      <td>Agrumes, Autres</td>\n",
       "      <td>vegetale</td>\n",
       "      <td>0.0</td>\n",
       "      <td>0.0</td>\n",
       "      <td>1.0</td>\n",
       "      <td>1.29</td>\n",
       "      <td>0.01</td>\n",
       "      <td>0.02</td>\n",
       "      <td>41000000.0</td>\n",
       "      <td>2000000.0</td>\n",
       "      <td>40000000.0</td>\n",
       "      <td>39000000.0</td>\n",
       "      <td>2000000.0</td>\n",
       "      <td>3000000.0</td>\n",
       "      <td>0.0</td>\n",
       "      <td>0.0</td>\n",
       "      <td>0.0</td>\n",
       "    </tr>\n",
       "    <tr>\n",
       "      <th>2</th>\n",
       "      <td>Afghanistan</td>\n",
       "      <td>Aliments pour enfants</td>\n",
       "      <td>vegetale</td>\n",
       "      <td>0.0</td>\n",
       "      <td>0.0</td>\n",
       "      <td>1.0</td>\n",
       "      <td>0.06</td>\n",
       "      <td>0.01</td>\n",
       "      <td>0.03</td>\n",
       "      <td>2000000.0</td>\n",
       "      <td>0.0</td>\n",
       "      <td>2000000.0</td>\n",
       "      <td>2000000.0</td>\n",
       "      <td>0.0</td>\n",
       "      <td>0.0</td>\n",
       "      <td>0.0</td>\n",
       "      <td>0.0</td>\n",
       "      <td>0.0</td>\n",
       "    </tr>\n",
       "    <tr>\n",
       "      <th>3</th>\n",
       "      <td>Afghanistan</td>\n",
       "      <td>Ananas</td>\n",
       "      <td>vegetale</td>\n",
       "      <td>0.0</td>\n",
       "      <td>0.0</td>\n",
       "      <td>0.0</td>\n",
       "      <td>0.00</td>\n",
       "      <td>0.00</td>\n",
       "      <td>0.00</td>\n",
       "      <td>0.0</td>\n",
       "      <td>0.0</td>\n",
       "      <td>0.0</td>\n",
       "      <td>0.0</td>\n",
       "      <td>0.0</td>\n",
       "      <td>0.0</td>\n",
       "      <td>0.0</td>\n",
       "      <td>0.0</td>\n",
       "      <td>0.0</td>\n",
       "    </tr>\n",
       "    <tr>\n",
       "      <th>4</th>\n",
       "      <td>Afghanistan</td>\n",
       "      <td>Bananes</td>\n",
       "      <td>vegetale</td>\n",
       "      <td>0.0</td>\n",
       "      <td>0.0</td>\n",
       "      <td>4.0</td>\n",
       "      <td>2.70</td>\n",
       "      <td>0.02</td>\n",
       "      <td>0.05</td>\n",
       "      <td>82000000.0</td>\n",
       "      <td>0.0</td>\n",
       "      <td>82000000.0</td>\n",
       "      <td>82000000.0</td>\n",
       "      <td>0.0</td>\n",
       "      <td>0.0</td>\n",
       "      <td>0.0</td>\n",
       "      <td>0.0</td>\n",
       "      <td>0.0</td>\n",
       "    </tr>\n",
       "  </tbody>\n",
       "</table>\n",
       "</div>"
      ],
      "text/plain": [
       "          Zone                Produit   Origine  Aliments pour animaux  \\\n",
       "0  Afghanistan       Abats Comestible   animale                    0.0   \n",
       "1  Afghanistan        Agrumes, Autres  vegetale                    0.0   \n",
       "2  Afghanistan  Aliments pour enfants  vegetale                    0.0   \n",
       "3  Afghanistan                 Ananas  vegetale                    0.0   \n",
       "4  Afghanistan                Bananes  vegetale                    0.0   \n",
       "\n",
       "   Autres Utilisations  Disponibilité alimentaire (Kcal/personne/jour)  \\\n",
       "0                  0.0                                             5.0   \n",
       "1                  0.0                                             1.0   \n",
       "2                  0.0                                             1.0   \n",
       "3                  0.0                                             0.0   \n",
       "4                  0.0                                             4.0   \n",
       "\n",
       "   Disponibilité alimentaire en quantité (kg/personne/an)  \\\n",
       "0                                               1.72        \n",
       "1                                               1.29        \n",
       "2                                               0.06        \n",
       "3                                               0.00        \n",
       "4                                               2.70        \n",
       "\n",
       "   Disponibilité de matière grasse en quantité (g/personne/jour)  \\\n",
       "0                                               0.20               \n",
       "1                                               0.01               \n",
       "2                                               0.01               \n",
       "3                                               0.00               \n",
       "4                                               0.02               \n",
       "\n",
       "   Disponibilité de protéines en quantité (g/personne/jour)  \\\n",
       "0                                               0.77          \n",
       "1                                               0.02          \n",
       "2                                               0.03          \n",
       "3                                               0.00          \n",
       "4                                               0.05          \n",
       "\n",
       "   Disponibilité intérieure  Exportations - Quantité  Importations - Quantité  \\\n",
       "0                53000000.0                      0.0                      0.0   \n",
       "1                41000000.0                2000000.0               40000000.0   \n",
       "2                 2000000.0                      0.0                2000000.0   \n",
       "3                       0.0                      0.0                      0.0   \n",
       "4                82000000.0                      0.0               82000000.0   \n",
       "\n",
       "   Nourriture     Pertes  Production  Semences  Traitement  Variation de stock  \n",
       "0  53000000.0        0.0  53000000.0       0.0         0.0                 0.0  \n",
       "1  39000000.0  2000000.0   3000000.0       0.0         0.0                 0.0  \n",
       "2   2000000.0        0.0         0.0       0.0         0.0                 0.0  \n",
       "3         0.0        0.0         0.0       0.0         0.0                 0.0  \n",
       "4  82000000.0        0.0         0.0       0.0         0.0                 0.0  "
      ]
     },
     "execution_count": 19,
     "metadata": {},
     "output_type": "execute_result"
    }
   ],
   "source": [
    "#Affichage les 5 premières lignes de la table\n",
    "dispo_alimentaire.head()"
   ]
  },
  {
   "cell_type": "code",
   "execution_count": 20,
   "id": "195468aa-1d3b-4f02-b052-7043edbae9e6",
   "metadata": {},
   "outputs": [
    {
     "name": "stdout",
     "output_type": "stream",
     "text": [
      "Empty DataFrame\n",
      "Columns: [Zone, Produit, Origine, Aliments pour animaux, Autres Utilisations, Disponibilité alimentaire (Kcal/personne/jour), Disponibilité alimentaire en quantité (kg/personne/an), Disponibilité de matière grasse en quantité (g/personne/jour), Disponibilité de protéines en quantité (g/personne/jour), Disponibilité intérieure, Exportations - Quantité, Importations - Quantité, Nourriture, Pertes, Production, Semences, Traitement, Variation de stock]\n",
      "Index: []\n"
     ]
    }
   ],
   "source": [
    "# Vérification des doublons\n",
    "doublons_dispo = dispo_alimentaire[dispo_alimentaire.duplicated(subset=[\"Zone\", \"Produit\"])]\n",
    "print(doublons_dispo)"
   ]
  },
  {
   "cell_type": "code",
   "execution_count": 21,
   "id": "6ea89f9d-ead8-40b2-bfe1-ef544f66ecb5",
   "metadata": {},
   "outputs": [],
   "source": [
    "# Je considère en clé primaire \"Zone\" avec \"Produit\"\n",
    "# Il n'y a aucun doublons pour cette clé, les NAN ont été remplacé par 0"
   ]
  },
  {
   "cell_type": "markdown",
   "id": "a09233e4",
   "metadata": {},
   "source": [
    "<div style=\"border: 1px solid RGB(0,150,250);\" >\n",
    "<h3 style=\"margin: auto; padding: 20px; color: RGB(0,150,250); \">2.3 - Analyse exploratoire du fichier aide alimentaire</h3>\n",
    "</div>"
   ]
  },
  {
   "cell_type": "code",
   "execution_count": 22,
   "id": "702f6322",
   "metadata": {},
   "outputs": [
    {
     "data": {
      "text/plain": [
       "(1475, 4)"
      ]
     },
     "execution_count": 22,
     "metadata": {},
     "output_type": "execute_result"
    }
   ],
   "source": [
    "#Afficher les dimensions du dataset\n",
    "aide_alimentaire.shape"
   ]
  },
  {
   "cell_type": "code",
   "execution_count": 23,
   "id": "8fead3f9",
   "metadata": {},
   "outputs": [
    {
     "data": {
      "text/plain": [
       "4"
      ]
     },
     "execution_count": 23,
     "metadata": {},
     "output_type": "execute_result"
    }
   ],
   "source": [
    "#Consulter le nombre de colonnes\n",
    "aide_alimentaire.shape[1]"
   ]
  },
  {
   "cell_type": "code",
   "execution_count": 24,
   "id": "443ec245",
   "metadata": {},
   "outputs": [
    {
     "data": {
      "text/html": [
       "<div>\n",
       "<style scoped>\n",
       "    .dataframe tbody tr th:only-of-type {\n",
       "        vertical-align: middle;\n",
       "    }\n",
       "\n",
       "    .dataframe tbody tr th {\n",
       "        vertical-align: top;\n",
       "    }\n",
       "\n",
       "    .dataframe thead th {\n",
       "        text-align: right;\n",
       "    }\n",
       "</style>\n",
       "<table border=\"1\" class=\"dataframe\">\n",
       "  <thead>\n",
       "    <tr style=\"text-align: right;\">\n",
       "      <th></th>\n",
       "      <th>Pays bénéficiaire</th>\n",
       "      <th>Année</th>\n",
       "      <th>Produit</th>\n",
       "      <th>Valeur</th>\n",
       "    </tr>\n",
       "  </thead>\n",
       "  <tbody>\n",
       "    <tr>\n",
       "      <th>0</th>\n",
       "      <td>Afghanistan</td>\n",
       "      <td>2013</td>\n",
       "      <td>Autres non-céréales</td>\n",
       "      <td>682</td>\n",
       "    </tr>\n",
       "    <tr>\n",
       "      <th>1</th>\n",
       "      <td>Afghanistan</td>\n",
       "      <td>2014</td>\n",
       "      <td>Autres non-céréales</td>\n",
       "      <td>335</td>\n",
       "    </tr>\n",
       "    <tr>\n",
       "      <th>2</th>\n",
       "      <td>Afghanistan</td>\n",
       "      <td>2013</td>\n",
       "      <td>Blé et Farin</td>\n",
       "      <td>39224</td>\n",
       "    </tr>\n",
       "    <tr>\n",
       "      <th>3</th>\n",
       "      <td>Afghanistan</td>\n",
       "      <td>2014</td>\n",
       "      <td>Blé et Farin</td>\n",
       "      <td>15160</td>\n",
       "    </tr>\n",
       "    <tr>\n",
       "      <th>4</th>\n",
       "      <td>Afghanistan</td>\n",
       "      <td>2013</td>\n",
       "      <td>Céréales</td>\n",
       "      <td>40504</td>\n",
       "    </tr>\n",
       "  </tbody>\n",
       "</table>\n",
       "</div>"
      ],
      "text/plain": [
       "  Pays bénéficiaire  Année              Produit  Valeur\n",
       "0       Afghanistan   2013  Autres non-céréales     682\n",
       "1       Afghanistan   2014  Autres non-céréales     335\n",
       "2       Afghanistan   2013         Blé et Farin   39224\n",
       "3       Afghanistan   2014         Blé et Farin   15160\n",
       "4       Afghanistan   2013             Céréales   40504"
      ]
     },
     "execution_count": 24,
     "metadata": {},
     "output_type": "execute_result"
    }
   ],
   "source": [
    "#Affichage les 5 premières lignes de la table\n",
    "aide_alimentaire.head()"
   ]
  },
  {
   "cell_type": "code",
   "execution_count": 25,
   "id": "af47212b",
   "metadata": {},
   "outputs": [],
   "source": [
    "#changement du nom de la colonne Pays bénéficiaire par Zone\n",
    "aide_alimentaire = aide_alimentaire.rename(columns={\"Pays bénéficiaire\" :\"Zone\"})"
   ]
  },
  {
   "cell_type": "code",
   "execution_count": 26,
   "id": "c32cd1d8",
   "metadata": {},
   "outputs": [],
   "source": [
    "#Multiplication de la colonne Aide_alimentaire qui contient des tonnes par 1000 pour avoir des kg\n",
    "aide_alimentaire['Valeur'] = aide_alimentaire['Valeur'] * 1000000"
   ]
  },
  {
   "cell_type": "code",
   "execution_count": 27,
   "id": "d951d8df",
   "metadata": {},
   "outputs": [
    {
     "data": {
      "text/html": [
       "<div>\n",
       "<style scoped>\n",
       "    .dataframe tbody tr th:only-of-type {\n",
       "        vertical-align: middle;\n",
       "    }\n",
       "\n",
       "    .dataframe tbody tr th {\n",
       "        vertical-align: top;\n",
       "    }\n",
       "\n",
       "    .dataframe thead th {\n",
       "        text-align: right;\n",
       "    }\n",
       "</style>\n",
       "<table border=\"1\" class=\"dataframe\">\n",
       "  <thead>\n",
       "    <tr style=\"text-align: right;\">\n",
       "      <th></th>\n",
       "      <th>Zone</th>\n",
       "      <th>Année</th>\n",
       "      <th>Produit</th>\n",
       "      <th>Valeur</th>\n",
       "    </tr>\n",
       "  </thead>\n",
       "  <tbody>\n",
       "    <tr>\n",
       "      <th>0</th>\n",
       "      <td>Afghanistan</td>\n",
       "      <td>2013</td>\n",
       "      <td>Autres non-céréales</td>\n",
       "      <td>682000000</td>\n",
       "    </tr>\n",
       "    <tr>\n",
       "      <th>1</th>\n",
       "      <td>Afghanistan</td>\n",
       "      <td>2014</td>\n",
       "      <td>Autres non-céréales</td>\n",
       "      <td>335000000</td>\n",
       "    </tr>\n",
       "    <tr>\n",
       "      <th>2</th>\n",
       "      <td>Afghanistan</td>\n",
       "      <td>2013</td>\n",
       "      <td>Blé et Farin</td>\n",
       "      <td>39224000000</td>\n",
       "    </tr>\n",
       "    <tr>\n",
       "      <th>3</th>\n",
       "      <td>Afghanistan</td>\n",
       "      <td>2014</td>\n",
       "      <td>Blé et Farin</td>\n",
       "      <td>15160000000</td>\n",
       "    </tr>\n",
       "    <tr>\n",
       "      <th>4</th>\n",
       "      <td>Afghanistan</td>\n",
       "      <td>2013</td>\n",
       "      <td>Céréales</td>\n",
       "      <td>40504000000</td>\n",
       "    </tr>\n",
       "  </tbody>\n",
       "</table>\n",
       "</div>"
      ],
      "text/plain": [
       "          Zone  Année              Produit       Valeur\n",
       "0  Afghanistan   2013  Autres non-céréales    682000000\n",
       "1  Afghanistan   2014  Autres non-céréales    335000000\n",
       "2  Afghanistan   2013         Blé et Farin  39224000000\n",
       "3  Afghanistan   2014         Blé et Farin  15160000000\n",
       "4  Afghanistan   2013             Céréales  40504000000"
      ]
     },
     "execution_count": 27,
     "metadata": {},
     "output_type": "execute_result"
    }
   ],
   "source": [
    "#Affichage les 5 premières lignes de la table\n",
    "aide_alimentaire.head()"
   ]
  },
  {
   "cell_type": "code",
   "execution_count": 28,
   "id": "3b38cc86-fb56-4144-aeba-3f80e8514e16",
   "metadata": {},
   "outputs": [
    {
     "name": "stdout",
     "output_type": "stream",
     "text": [
      "Empty DataFrame\n",
      "Columns: [Zone, Année, Produit, Valeur]\n",
      "Index: []\n"
     ]
    }
   ],
   "source": [
    "# Vérification des doublons\n",
    "doublons_aide = aide_alimentaire[aide_alimentaire.duplicated(subset=[\"Zone\", \"Année\", \"Produit\"])]\n",
    "print(doublons_aide)"
   ]
  },
  {
   "cell_type": "code",
   "execution_count": 29,
   "id": "acc327ff-eba6-4f4d-876d-b50e34f8d9f9",
   "metadata": {},
   "outputs": [
    {
     "data": {
      "text/plain": [
       "Zone       0\n",
       "Année      0\n",
       "Produit    0\n",
       "Valeur     0\n",
       "dtype: int64"
      ]
     },
     "execution_count": 29,
     "metadata": {},
     "output_type": "execute_result"
    }
   ],
   "source": [
    "# Vérification des valeurs manquantes\n",
    "aide_alimentaire.isna().sum()"
   ]
  },
  {
   "cell_type": "code",
   "execution_count": 30,
   "id": "41f2dbde-df3d-4d82-9d47-11cdf318a40d",
   "metadata": {},
   "outputs": [],
   "source": [
    "# J'estime que la clé primaire est l'association de \"Zone\"/  \"Année\" / \"Produit\"\n",
    "#Il n'y a pas de valeur manquantes, pas de doublons"
   ]
  },
  {
   "cell_type": "markdown",
   "id": "eeae9043",
   "metadata": {},
   "source": [
    "<div style=\"border: 1px solid RGB(0,150,250);\" >\n",
    "<h3 style=\"margin: auto; padding: 20px; color: RGB(0,150,250); \">2.3 - Analyse exploratoire du fichier sous nutrition</h3>\n",
    "</div>"
   ]
  },
  {
   "cell_type": "code",
   "execution_count": 31,
   "id": "882add3d",
   "metadata": {},
   "outputs": [
    {
     "data": {
      "text/plain": [
       "(1218, 3)"
      ]
     },
     "execution_count": 31,
     "metadata": {},
     "output_type": "execute_result"
    }
   ],
   "source": [
    "#Afficher les dimensions du dataset\n",
    "sous_nutrition.shape"
   ]
  },
  {
   "cell_type": "code",
   "execution_count": 32,
   "id": "70c1a7a9",
   "metadata": {},
   "outputs": [
    {
     "data": {
      "text/plain": [
       "3"
      ]
     },
     "execution_count": 32,
     "metadata": {},
     "output_type": "execute_result"
    }
   ],
   "source": [
    "#Consulter le nombre de colonnes\n",
    "sous_nutrition.shape[1]"
   ]
  },
  {
   "cell_type": "code",
   "execution_count": 33,
   "id": "5c6469e5",
   "metadata": {},
   "outputs": [
    {
     "data": {
      "text/html": [
       "<div>\n",
       "<style scoped>\n",
       "    .dataframe tbody tr th:only-of-type {\n",
       "        vertical-align: middle;\n",
       "    }\n",
       "\n",
       "    .dataframe tbody tr th {\n",
       "        vertical-align: top;\n",
       "    }\n",
       "\n",
       "    .dataframe thead th {\n",
       "        text-align: right;\n",
       "    }\n",
       "</style>\n",
       "<table border=\"1\" class=\"dataframe\">\n",
       "  <thead>\n",
       "    <tr style=\"text-align: right;\">\n",
       "      <th></th>\n",
       "      <th>Zone</th>\n",
       "      <th>Année</th>\n",
       "      <th>Valeur</th>\n",
       "    </tr>\n",
       "  </thead>\n",
       "  <tbody>\n",
       "    <tr>\n",
       "      <th>0</th>\n",
       "      <td>Afghanistan</td>\n",
       "      <td>2012-2014</td>\n",
       "      <td>8.6</td>\n",
       "    </tr>\n",
       "    <tr>\n",
       "      <th>1</th>\n",
       "      <td>Afghanistan</td>\n",
       "      <td>2013-2015</td>\n",
       "      <td>8.8</td>\n",
       "    </tr>\n",
       "    <tr>\n",
       "      <th>2</th>\n",
       "      <td>Afghanistan</td>\n",
       "      <td>2014-2016</td>\n",
       "      <td>8.9</td>\n",
       "    </tr>\n",
       "    <tr>\n",
       "      <th>3</th>\n",
       "      <td>Afghanistan</td>\n",
       "      <td>2015-2017</td>\n",
       "      <td>9.7</td>\n",
       "    </tr>\n",
       "    <tr>\n",
       "      <th>4</th>\n",
       "      <td>Afghanistan</td>\n",
       "      <td>2016-2018</td>\n",
       "      <td>10.5</td>\n",
       "    </tr>\n",
       "  </tbody>\n",
       "</table>\n",
       "</div>"
      ],
      "text/plain": [
       "          Zone      Année Valeur\n",
       "0  Afghanistan  2012-2014    8.6\n",
       "1  Afghanistan  2013-2015    8.8\n",
       "2  Afghanistan  2014-2016    8.9\n",
       "3  Afghanistan  2015-2017    9.7\n",
       "4  Afghanistan  2016-2018   10.5"
      ]
     },
     "execution_count": 33,
     "metadata": {},
     "output_type": "execute_result"
    }
   ],
   "source": [
    "#Afficher les 5 premières lignes de la table\n",
    "sous_nutrition.head()"
   ]
  },
  {
   "cell_type": "code",
   "execution_count": 34,
   "id": "11b6a6c8",
   "metadata": {},
   "outputs": [],
   "source": [
    "#Conversion de la colonne sous nutrition en numérique\n"
   ]
  },
  {
   "cell_type": "code",
   "execution_count": 35,
   "id": "d31d2724",
   "metadata": {},
   "outputs": [
    {
     "data": {
      "text/html": [
       "<div>\n",
       "<style scoped>\n",
       "    .dataframe tbody tr th:only-of-type {\n",
       "        vertical-align: middle;\n",
       "    }\n",
       "\n",
       "    .dataframe tbody tr th {\n",
       "        vertical-align: top;\n",
       "    }\n",
       "\n",
       "    .dataframe thead th {\n",
       "        text-align: right;\n",
       "    }\n",
       "</style>\n",
       "<table border=\"1\" class=\"dataframe\">\n",
       "  <thead>\n",
       "    <tr style=\"text-align: right;\">\n",
       "      <th></th>\n",
       "      <th>Zone</th>\n",
       "      <th>Année</th>\n",
       "      <th>Valeur</th>\n",
       "    </tr>\n",
       "  </thead>\n",
       "  <tbody>\n",
       "    <tr>\n",
       "      <th>0</th>\n",
       "      <td>Afghanistan</td>\n",
       "      <td>2012-2014</td>\n",
       "      <td>8.6</td>\n",
       "    </tr>\n",
       "    <tr>\n",
       "      <th>1</th>\n",
       "      <td>Afghanistan</td>\n",
       "      <td>2013-2015</td>\n",
       "      <td>8.8</td>\n",
       "    </tr>\n",
       "    <tr>\n",
       "      <th>2</th>\n",
       "      <td>Afghanistan</td>\n",
       "      <td>2014-2016</td>\n",
       "      <td>8.9</td>\n",
       "    </tr>\n",
       "    <tr>\n",
       "      <th>3</th>\n",
       "      <td>Afghanistan</td>\n",
       "      <td>2015-2017</td>\n",
       "      <td>9.7</td>\n",
       "    </tr>\n",
       "    <tr>\n",
       "      <th>4</th>\n",
       "      <td>Afghanistan</td>\n",
       "      <td>2016-2018</td>\n",
       "      <td>10.5</td>\n",
       "    </tr>\n",
       "    <tr>\n",
       "      <th>...</th>\n",
       "      <td>...</td>\n",
       "      <td>...</td>\n",
       "      <td>...</td>\n",
       "    </tr>\n",
       "    <tr>\n",
       "      <th>1213</th>\n",
       "      <td>Zimbabwe</td>\n",
       "      <td>2013-2015</td>\n",
       "      <td>0.0</td>\n",
       "    </tr>\n",
       "    <tr>\n",
       "      <th>1214</th>\n",
       "      <td>Zimbabwe</td>\n",
       "      <td>2014-2016</td>\n",
       "      <td>0.0</td>\n",
       "    </tr>\n",
       "    <tr>\n",
       "      <th>1215</th>\n",
       "      <td>Zimbabwe</td>\n",
       "      <td>2015-2017</td>\n",
       "      <td>0.0</td>\n",
       "    </tr>\n",
       "    <tr>\n",
       "      <th>1216</th>\n",
       "      <td>Zimbabwe</td>\n",
       "      <td>2016-2018</td>\n",
       "      <td>0.0</td>\n",
       "    </tr>\n",
       "    <tr>\n",
       "      <th>1217</th>\n",
       "      <td>Zimbabwe</td>\n",
       "      <td>2017-2019</td>\n",
       "      <td>0.0</td>\n",
       "    </tr>\n",
       "  </tbody>\n",
       "</table>\n",
       "<p>1218 rows × 3 columns</p>\n",
       "</div>"
      ],
      "text/plain": [
       "             Zone      Année  Valeur\n",
       "0     Afghanistan  2012-2014     8.6\n",
       "1     Afghanistan  2013-2015     8.8\n",
       "2     Afghanistan  2014-2016     8.9\n",
       "3     Afghanistan  2015-2017     9.7\n",
       "4     Afghanistan  2016-2018    10.5\n",
       "...           ...        ...     ...\n",
       "1213     Zimbabwe  2013-2015     0.0\n",
       "1214     Zimbabwe  2014-2016     0.0\n",
       "1215     Zimbabwe  2015-2017     0.0\n",
       "1216     Zimbabwe  2016-2018     0.0\n",
       "1217     Zimbabwe  2017-2019     0.0\n",
       "\n",
       "[1218 rows x 3 columns]"
      ]
     },
     "execution_count": 35,
     "metadata": {},
     "output_type": "execute_result"
    }
   ],
   "source": [
    "#Conversion de la colonne (avec l'argument errors=coerce qui permet de convertir automatiquement les lignes qui ne sont pas des nombres en NaN)\n",
    "#Puis remplacement des NaN en 0\n",
    "sous_nutrition['Valeur'] = pd.to_numeric(sous_nutrition['Valeur'], errors='coerce')\n",
    "sous_nutrition.fillna(0, inplace = True)\n",
    "sous_nutrition"
   ]
  },
  {
   "cell_type": "code",
   "execution_count": 36,
   "id": "34c98232",
   "metadata": {},
   "outputs": [],
   "source": [
    "#changement du nom de la colonne Valeur par sous_nutrition\n",
    "sous_nutrition = sous_nutrition.rename(columns={\"Valeur\" : \"sous_nutrition\"})"
   ]
  },
  {
   "cell_type": "code",
   "execution_count": 37,
   "id": "002110fa",
   "metadata": {},
   "outputs": [],
   "source": [
    "#Multiplication de la colonne sous_nutrition par 1000000\n",
    "sous_nutrition[\"sous_nutrition\"] = sous_nutrition[\"sous_nutrition\"] * 1000000"
   ]
  },
  {
   "cell_type": "code",
   "execution_count": 38,
   "id": "58259b55",
   "metadata": {},
   "outputs": [
    {
     "data": {
      "text/html": [
       "<div>\n",
       "<style scoped>\n",
       "    .dataframe tbody tr th:only-of-type {\n",
       "        vertical-align: middle;\n",
       "    }\n",
       "\n",
       "    .dataframe tbody tr th {\n",
       "        vertical-align: top;\n",
       "    }\n",
       "\n",
       "    .dataframe thead th {\n",
       "        text-align: right;\n",
       "    }\n",
       "</style>\n",
       "<table border=\"1\" class=\"dataframe\">\n",
       "  <thead>\n",
       "    <tr style=\"text-align: right;\">\n",
       "      <th></th>\n",
       "      <th>Zone</th>\n",
       "      <th>Année</th>\n",
       "      <th>sous_nutrition</th>\n",
       "    </tr>\n",
       "  </thead>\n",
       "  <tbody>\n",
       "    <tr>\n",
       "      <th>0</th>\n",
       "      <td>Afghanistan</td>\n",
       "      <td>2012-2014</td>\n",
       "      <td>8600000.0</td>\n",
       "    </tr>\n",
       "    <tr>\n",
       "      <th>1</th>\n",
       "      <td>Afghanistan</td>\n",
       "      <td>2013-2015</td>\n",
       "      <td>8800000.0</td>\n",
       "    </tr>\n",
       "    <tr>\n",
       "      <th>2</th>\n",
       "      <td>Afghanistan</td>\n",
       "      <td>2014-2016</td>\n",
       "      <td>8900000.0</td>\n",
       "    </tr>\n",
       "    <tr>\n",
       "      <th>3</th>\n",
       "      <td>Afghanistan</td>\n",
       "      <td>2015-2017</td>\n",
       "      <td>9700000.0</td>\n",
       "    </tr>\n",
       "    <tr>\n",
       "      <th>4</th>\n",
       "      <td>Afghanistan</td>\n",
       "      <td>2016-2018</td>\n",
       "      <td>10500000.0</td>\n",
       "    </tr>\n",
       "  </tbody>\n",
       "</table>\n",
       "</div>"
      ],
      "text/plain": [
       "          Zone      Année  sous_nutrition\n",
       "0  Afghanistan  2012-2014       8600000.0\n",
       "1  Afghanistan  2013-2015       8800000.0\n",
       "2  Afghanistan  2014-2016       8900000.0\n",
       "3  Afghanistan  2015-2017       9700000.0\n",
       "4  Afghanistan  2016-2018      10500000.0"
      ]
     },
     "execution_count": 38,
     "metadata": {},
     "output_type": "execute_result"
    }
   ],
   "source": [
    "#Afficher les 5 premières lignes de la table\n",
    "sous_nutrition.head()"
   ]
  },
  {
   "cell_type": "code",
   "execution_count": 39,
   "id": "aed69106-3ec9-4b48-a198-4d4b09fae4f2",
   "metadata": {},
   "outputs": [
    {
     "name": "stdout",
     "output_type": "stream",
     "text": [
      "Empty DataFrame\n",
      "Columns: [Zone, Année, sous_nutrition]\n",
      "Index: []\n"
     ]
    }
   ],
   "source": [
    "# Vérification des doublons\n",
    "doublons_sous_nutrition = sous_nutrition[sous_nutrition.duplicated(subset=[\"Zone\", \"Année\"])]\n",
    "print(doublons_sous_nutrition)"
   ]
  },
  {
   "cell_type": "code",
   "execution_count": 40,
   "id": "de0b560a-1b96-4347-a93b-7566b8da2a0d",
   "metadata": {},
   "outputs": [
    {
     "data": {
      "text/plain": [
       "Zone              0\n",
       "Année             0\n",
       "sous_nutrition    0\n",
       "dtype: int64"
      ]
     },
     "execution_count": 40,
     "metadata": {},
     "output_type": "execute_result"
    }
   ],
   "source": [
    "# Vérification des valeurs manquantes\n",
    "sous_nutrition.isna().sum()"
   ]
  },
  {
   "cell_type": "code",
   "execution_count": 41,
   "id": "55f96fd5-74e1-4933-9d04-b47d2f440df7",
   "metadata": {},
   "outputs": [],
   "source": [
    "# Il n'y a pas de valeurs manquantes, et pas de boublons en considérant la clé primaire \"Zone\" avec \"Année\"\t"
   ]
  },
  {
   "cell_type": "markdown",
   "id": "df6dcabd",
   "metadata": {},
   "source": [
    "<div style=\"border: 1px solid RGB(0,150,250);\" >\n",
    "<h3 style=\"margin: auto; padding: 20px; color: RGB(0,150,250); \">3.1 - Proportion de personnes en sous nutrition</h3>\n",
    "</div>"
   ]
  },
  {
   "cell_type": "code",
   "execution_count": 42,
   "id": "a63e1567",
   "metadata": {},
   "outputs": [],
   "source": [
    "# Il faut tout d'abord faire une jointure entre la table population et la table sous nutrition, en ciblant l'année 2017\n",
    "population_2017 = population[population[\"Année\"] == 2017]\n",
    "sous_nutrition_2017 = sous_nutrition.copy()\n",
    "sous_nutrition_2017['Année'] = sous_nutrition['Année'].str.replace(\"2016-2018\", \"2017\")\n",
    "sous_nutrition_2017 = sous_nutrition_2017[sous_nutrition_2017['Année'] == \"2017\"]\n",
    "sous_nutrition_2017['Année'] = sous_nutrition_2017['Année'].astype(int)\n",
    "data_SN_2017 = pd.merge(sous_nutrition_2017, population_2017,  on=['Zone', 'Année'] ,how='left')"
   ]
  },
  {
   "cell_type": "code",
   "execution_count": 43,
   "id": "731eea39",
   "metadata": {},
   "outputs": [
    {
     "name": "stdout",
     "output_type": "stream",
     "text": [
      "                                       Zone  Année  sous_nutrition  Population\n",
      "0                               Afghanistan   2017      10500000.0  36296113.0\n",
      "1                            Afrique du Sud   2017       3100000.0  57009756.0\n",
      "2                                   Albanie   2017        100000.0   2884169.0\n",
      "3                                   Algérie   2017       1300000.0  41389189.0\n",
      "4                                 Allemagne   2017             0.0  82658409.0\n",
      "..                                      ...    ...             ...         ...\n",
      "198  Venezuela (République bolivarienne du)   2017       8000000.0  29402484.0\n",
      "199                                Viet Nam   2017       6500000.0  94600648.0\n",
      "200                                   Yémen   2017             0.0  27834819.0\n",
      "201                                  Zambie   2017             0.0  16853599.0\n",
      "202                                Zimbabwe   2017             0.0  14236595.0\n",
      "\n",
      "[203 rows x 4 columns]\n"
     ]
    }
   ],
   "source": [
    "#Affichage du dataset\n",
    "print(data_SN_2017)"
   ]
  },
  {
   "cell_type": "code",
   "execution_count": 44,
   "id": "0141717e-5cfc-4970-af75-d4e1a81b67fa",
   "metadata": {},
   "outputs": [
    {
     "data": {
      "text/plain": [
       "Zone              0\n",
       "Année             0\n",
       "sous_nutrition    0\n",
       "Population        0\n",
       "dtype: int64"
      ]
     },
     "execution_count": 44,
     "metadata": {},
     "output_type": "execute_result"
    }
   ],
   "source": [
    "# Vérification des valeurs manquantes\n",
    "data_SN_2017.isna().sum()"
   ]
  },
  {
   "cell_type": "code",
   "execution_count": 45,
   "id": "6af9ba51-d861-4679-8cf4-2de0d41eade5",
   "metadata": {},
   "outputs": [
    {
     "name": "stdout",
     "output_type": "stream",
     "text": [
      "Empty DataFrame\n",
      "Columns: [Zone, Année, sous_nutrition, Population]\n",
      "Index: []\n"
     ]
    }
   ],
   "source": [
    "# Vérification des doublons\n",
    "doublons_data_SN_2017= data_SN_2017[data_SN_2017.duplicated(subset=[\"Zone\", \"Année\"])]\n",
    "print(doublons_data_SN_2017)"
   ]
  },
  {
   "cell_type": "code",
   "execution_count": 46,
   "id": "8464566e-70a1-45f4-9123-1b65923761cd",
   "metadata": {},
   "outputs": [
    {
     "data": {
      "text/plain": [
       "(236, 203)"
      ]
     },
     "execution_count": 46,
     "metadata": {},
     "output_type": "execute_result"
    }
   ],
   "source": [
    "len(population_2017), len(sous_nutrition_2017)"
   ]
  },
  {
   "cell_type": "code",
   "execution_count": 47,
   "id": "88f7c26c-9cf7-4625-9be8-4845c0f83fa0",
   "metadata": {},
   "outputs": [
    {
     "name": "stdout",
     "output_type": "stream",
     "text": [
      "Pays présents dans population_2017 mais absents de sous_nutrition_2017 :\n",
      "Anguilla\n",
      "Antilles néerlandaises (ex)\n",
      "Aruba\n",
      "Bonaire, Saint-Eustache et Saba\n",
      "Curaçao\n",
      "Gibraltar\n",
      "Guadeloupe\n",
      "Guam\n",
      "Guyane française\n",
      "Liechtenstein\n",
      "Martinique\n",
      "Mayotte\n",
      "Monaco\n",
      "Montserrat\n",
      "Réunion\n",
      "Sahara occidental\n",
      "Saint-Barthélemy\n",
      "Saint-Marin\n",
      "Saint-Martin (partie française)\n",
      "Saint-Pierre-et-Miquelon\n",
      "Saint-Siège\n",
      "Sainte-Hélène, Ascension et Tristan da Cunha\n",
      "Sint Maarten  (partie néerlandaise)\n",
      "Île de Man\n",
      "Îles Anglo-Normandes\n",
      "Îles Caïmanes\n",
      "Îles Falkland (Malvinas)\n",
      "Îles Féroé\n",
      "Îles Mariannes du Nord\n",
      "Îles Turques-et-Caïques\n",
      "Îles Vierges américaines\n",
      "Îles Vierges britanniques\n",
      "Îles Wallis-et-Futuna\n"
     ]
    }
   ],
   "source": [
    "# Etude des pays manquants dans la fusion\n",
    "Pays_population_2017 = population_2017['Zone'].unique()\n",
    "Pays_sous_nutrition_2017 = sous_nutrition_2017['Zone'].unique()\n",
    "ensemble_population = set(Pays_population_2017)\n",
    "ensemble_sous_nutrition = set(Pays_sous_nutrition_2017)\n",
    "\n",
    "# Pays présents dans population mais absents dans sous_nutrition\n",
    "pays_manquants = ensemble_population - ensemble_sous_nutrition\n",
    "\n",
    "# Affichage des pays manquants\n",
    "print(\"Pays présents dans population_2017 mais absents de sous_nutrition_2017 :\")\n",
    "for pays in sorted(pays_manquants):\n",
    "    print(pays)"
   ]
  },
  {
   "cell_type": "code",
   "execution_count": 48,
   "id": "8dd233bc-817c-43ce-b4bd-6a43a394a1eb",
   "metadata": {},
   "outputs": [],
   "source": [
    "#Les pays non souverains/à statut particulier ne sont plus présents"
   ]
  },
  {
   "cell_type": "code",
   "execution_count": 49,
   "id": "28e2741f",
   "metadata": {},
   "outputs": [
    {
     "name": "stdout",
     "output_type": "stream",
     "text": [
      "Population mondiale en sous nutrition : 535700000.0\n"
     ]
    }
   ],
   "source": [
    "#Calcul et affichage du nombre de personnes en état de sous nutrition\n",
    "print(\"Population mondiale en sous nutrition :\" ,data_SN_2017['sous_nutrition'].sum())"
   ]
  },
  {
   "cell_type": "code",
   "execution_count": 50,
   "id": "3e7c1014-eb53-463f-8d86-aad1934dff2f",
   "metadata": {},
   "outputs": [
    {
     "name": "stdout",
     "output_type": "stream",
     "text": [
      "Population mondiale en 2017 : 7543798779.0\n"
     ]
    }
   ],
   "source": [
    "print(\"Population mondiale en 2017 :\", data_SN_2017['Population'].sum())"
   ]
  },
  {
   "cell_type": "code",
   "execution_count": 51,
   "id": "292c8a18-b17b-4be7-ad38-e8024d7dfd15",
   "metadata": {},
   "outputs": [
    {
     "name": "stdout",
     "output_type": "stream",
     "text": [
      "Proportion de Population mondiale en sous nutrition en 2017 : 7.101 %\n"
     ]
    }
   ],
   "source": [
    "print( \"Proportion de Population mondiale en sous nutrition en 2017 :\", round((data_SN_2017['sous_nutrition'].sum()/data_SN_2017['Population'].sum()) *100, 3), \"%\")"
   ]
  },
  {
   "cell_type": "markdown",
   "id": "b4134a24",
   "metadata": {},
   "source": [
    "<div style=\"border: 1px solid RGB(0,150,250);\" >\n",
    "<h3 style=\"margin: auto; padding: 20px; color: RGB(0,150,250); \">3.2 - Nombre théorique de personne qui pourrait être nourries</h3>\n",
    "</div>"
   ]
  },
  {
   "cell_type": "code",
   "execution_count": 52,
   "id": "2b63df85",
   "metadata": {},
   "outputs": [],
   "source": [
    "#Combien mange en moyenne un être humain ? Source => \n",
    "calories = 2150"
   ]
  },
  {
   "cell_type": "code",
   "execution_count": 53,
   "id": "5e3f262d",
   "metadata": {},
   "outputs": [],
   "source": [
    "#On commence par faire une jointure entre le data frame population et Dispo_alimentaire afin d'ajouter dans ce dernier la population\n",
    "Data_dispo = dispo_alimentaire.merge(population_2017[['Zone', 'Population']], on ='Zone', how='left')"
   ]
  },
  {
   "cell_type": "code",
   "execution_count": 54,
   "id": "4538126c",
   "metadata": {},
   "outputs": [
    {
     "name": "stdout",
     "output_type": "stream",
     "text": [
      "               Zone                Produit   Origine  Aliments pour animaux  \\\n",
      "0       Afghanistan       Abats Comestible   animale                    0.0   \n",
      "1       Afghanistan        Agrumes, Autres  vegetale                    0.0   \n",
      "2       Afghanistan  Aliments pour enfants  vegetale                    0.0   \n",
      "3       Afghanistan                 Ananas  vegetale                    0.0   \n",
      "4       Afghanistan                Bananes  vegetale                    0.0   \n",
      "...             ...                    ...       ...                    ...   \n",
      "15600  Îles Salomon       Viande de Suides   animale                    0.0   \n",
      "15601  Îles Salomon    Viande de Volailles   animale                    0.0   \n",
      "15602  Îles Salomon          Viande, Autre   animale                    0.0   \n",
      "15603  Îles Salomon                    Vin  vegetale                    0.0   \n",
      "15604  Îles Salomon         Épices, Autres  vegetale                    0.0   \n",
      "\n",
      "       Autres Utilisations  Disponibilité alimentaire (Kcal/personne/jour)  \\\n",
      "0                      0.0                                             5.0   \n",
      "1                      0.0                                             1.0   \n",
      "2                      0.0                                             1.0   \n",
      "3                      0.0                                             0.0   \n",
      "4                      0.0                                             4.0   \n",
      "...                    ...                                             ...   \n",
      "15600                  0.0                                            45.0   \n",
      "15601                  0.0                                            11.0   \n",
      "15602                  0.0                                             0.0   \n",
      "15603                  0.0                                             0.0   \n",
      "15604                  0.0                                             4.0   \n",
      "\n",
      "       Disponibilité alimentaire en quantité (kg/personne/an)  \\\n",
      "0                                                   1.72        \n",
      "1                                                   1.29        \n",
      "2                                                   0.06        \n",
      "3                                                   0.00        \n",
      "4                                                   2.70        \n",
      "...                                                  ...        \n",
      "15600                                               4.70        \n",
      "15601                                               3.34        \n",
      "15602                                               0.06        \n",
      "15603                                               0.07        \n",
      "15604                                               0.48        \n",
      "\n",
      "       Disponibilité de matière grasse en quantité (g/personne/jour)  \\\n",
      "0                                                   0.20               \n",
      "1                                                   0.01               \n",
      "2                                                   0.01               \n",
      "3                                                   0.00               \n",
      "4                                                   0.02               \n",
      "...                                                  ...               \n",
      "15600                                               4.28               \n",
      "15601                                               0.69               \n",
      "15602                                               0.00               \n",
      "15603                                               0.00               \n",
      "15604                                               0.21               \n",
      "\n",
      "       Disponibilité de protéines en quantité (g/personne/jour)  \\\n",
      "0                                                   0.77          \n",
      "1                                                   0.02          \n",
      "2                                                   0.03          \n",
      "3                                                   0.00          \n",
      "4                                                   0.05          \n",
      "...                                                  ...          \n",
      "15600                                               1.41          \n",
      "15601                                               1.14          \n",
      "15602                                               0.04          \n",
      "15603                                               0.00          \n",
      "15604                                               0.15          \n",
      "\n",
      "       Disponibilité intérieure  Exportations - Quantité  \\\n",
      "0                    53000000.0                      0.0   \n",
      "1                    41000000.0                2000000.0   \n",
      "2                     2000000.0                      0.0   \n",
      "3                           0.0                      0.0   \n",
      "4                    82000000.0                      0.0   \n",
      "...                         ...                      ...   \n",
      "15600                 3000000.0                      0.0   \n",
      "15601                 2000000.0                      0.0   \n",
      "15602                       0.0                      0.0   \n",
      "15603                       0.0                      0.0   \n",
      "15604                       0.0                      0.0   \n",
      "\n",
      "       Importations - Quantité  Nourriture     Pertes  Production  Semences  \\\n",
      "0                          0.0  53000000.0        0.0  53000000.0       0.0   \n",
      "1                   40000000.0  39000000.0  2000000.0   3000000.0       0.0   \n",
      "2                    2000000.0   2000000.0        0.0         0.0       0.0   \n",
      "3                          0.0         0.0        0.0         0.0       0.0   \n",
      "4                   82000000.0  82000000.0        0.0         0.0       0.0   \n",
      "...                        ...         ...        ...         ...       ...   \n",
      "15600                      0.0   3000000.0        0.0   2000000.0       0.0   \n",
      "15601                2000000.0   2000000.0        0.0         0.0       0.0   \n",
      "15602                      0.0         0.0        0.0         0.0       0.0   \n",
      "15603                      0.0         0.0        0.0         0.0       0.0   \n",
      "15604                      0.0         0.0        0.0         0.0       0.0   \n",
      "\n",
      "       Traitement  Variation de stock  Population  \n",
      "0             0.0                 0.0  36296113.0  \n",
      "1             0.0                 0.0  36296113.0  \n",
      "2             0.0                 0.0  36296113.0  \n",
      "3             0.0                 0.0  36296113.0  \n",
      "4             0.0                 0.0  36296113.0  \n",
      "...           ...                 ...         ...  \n",
      "15600         0.0                 0.0    636039.0  \n",
      "15601         0.0                 0.0    636039.0  \n",
      "15602         0.0                 0.0    636039.0  \n",
      "15603         0.0                 0.0    636039.0  \n",
      "15604         0.0                 0.0    636039.0  \n",
      "\n",
      "[15605 rows x 19 columns]\n"
     ]
    }
   ],
   "source": [
    "#Affichage du nouveau dataframe\n",
    "print(Data_dispo)"
   ]
  },
  {
   "cell_type": "code",
   "execution_count": 55,
   "id": "5305ba25",
   "metadata": {},
   "outputs": [
    {
     "data": {
      "text/plain": [
       "0        181480565.0\n",
       "1         36296113.0\n",
       "2         36296113.0\n",
       "3                0.0\n",
       "4        145184452.0\n",
       "            ...     \n",
       "15600     28621755.0\n",
       "15601      6996429.0\n",
       "15602            0.0\n",
       "15603            0.0\n",
       "15604      2544156.0\n",
       "Name: dispo_kcal, Length: 15605, dtype: float64"
      ]
     },
     "execution_count": 55,
     "metadata": {},
     "output_type": "execute_result"
    }
   ],
   "source": [
    "#Création de la colonne dispo_kcal avec calcul des kcal disponibles mondialement\n",
    "Data_dispo['dispo_kcal'] = Data_dispo['Disponibilité alimentaire (Kcal/personne/jour)'] * Data_dispo['Population']\n",
    "Data_dispo['dispo_kcal']"
   ]
  },
  {
   "cell_type": "code",
   "execution_count": 56,
   "id": "cc17b706-82f3-423b-bd42-388a49399119",
   "metadata": {},
   "outputs": [
    {
     "name": "stdout",
     "output_type": "stream",
     "text": [
      "20918984627331.0\n"
     ]
    }
   ],
   "source": [
    "#Somme mondiale des kcal disponibles par jour\n",
    "total_Kcal_par_jour = Data_dispo['dispo_kcal'].sum()\n",
    "print(total_Kcal_par_jour)"
   ]
  },
  {
   "cell_type": "code",
   "execution_count": 57,
   "id": "a6d4af90",
   "metadata": {},
   "outputs": [
    {
     "name": "stdout",
     "output_type": "stream",
     "text": [
      "Le nombre d'humain pouvant être nourris théoriquement : 9729760292\n"
     ]
    }
   ],
   "source": [
    "#Calcul du nombre d'humains pouvant être nourris\n",
    "Nombre_humain_nourri = round(total_Kcal_par_jour / calories)\n",
    "print(\"Le nombre d'humain pouvant être nourris théoriquement :\", Nombre_humain_nourri)"
   ]
  },
  {
   "cell_type": "markdown",
   "id": "e97c8886",
   "metadata": {},
   "source": [
    "<div style=\"border: 1px solid RGB(0,150,250);\" >\n",
    "<h3 style=\"margin: auto; padding: 20px; color: RGB(0,150,250); \">3.3 - Nombre théorique de personne qui pourrait être nourrie avec les produits végétaux</h3>\n",
    "</div>"
   ]
  },
  {
   "cell_type": "code",
   "execution_count": 58,
   "id": "570679f4-895f-4cdc-ad8b-040deaad421c",
   "metadata": {},
   "outputs": [
    {
     "data": {
      "text/plain": [
       "Origine\n",
       "vegetale    11896\n",
       "animale      3709\n",
       "Name: count, dtype: int64"
      ]
     },
     "execution_count": 58,
     "metadata": {},
     "output_type": "execute_result"
    }
   ],
   "source": [
    "Data_dispo['Origine'].value_counts()"
   ]
  },
  {
   "cell_type": "code",
   "execution_count": 59,
   "id": "c2e3c87c",
   "metadata": {},
   "outputs": [],
   "source": [
    "#Transfert des données avec les végétaux dans un nouveau dataframe\n",
    "data_vegetaux = Data_dispo[Data_dispo['Origine'] == 'vegetale']"
   ]
  },
  {
   "cell_type": "code",
   "execution_count": 60,
   "id": "1fbf8f74-d47a-41b7-a58d-2eb0d32ba168",
   "metadata": {},
   "outputs": [
    {
     "name": "stdout",
     "output_type": "stream",
     "text": [
      "3658220415830.0\n"
     ]
    }
   ],
   "source": [
    "data_ani = Data_dispo[Data_dispo['Origine'] == 'animale']\n",
    "print(data_ani['dispo_kcal'].sum())"
   ]
  },
  {
   "cell_type": "code",
   "execution_count": 61,
   "id": "534f3ad7",
   "metadata": {},
   "outputs": [],
   "source": [
    "#Calcul du nombre de kcal disponible pour les végétaux\n",
    "total_Kcal_vegetaux = data_vegetaux['dispo_kcal'].sum()"
   ]
  },
  {
   "cell_type": "code",
   "execution_count": 62,
   "id": "8c82da41",
   "metadata": {},
   "outputs": [
    {
     "name": "stdout",
     "output_type": "stream",
     "text": [
      "Le nombre d'humain pouvant être nourris théoriquement avec uniquement des végétaux: 8028262423.953954\n"
     ]
    }
   ],
   "source": [
    "#Calcul du nombre d'humains pouvant être nourris avec les végétaux\n",
    "print(\"Le nombre d'humain pouvant être nourris théoriquement avec uniquement des végétaux:\", total_Kcal_vegetaux/calories)"
   ]
  },
  {
   "cell_type": "markdown",
   "id": "cd07afb1",
   "metadata": {},
   "source": [
    "<div style=\"border: 1px solid RGB(0,150,250);\" >\n",
    "<h3 style=\"margin: auto; padding: 20px; color: RGB(0,150,250); \">3.4 - Utilisation de la disponibilité intérieure</h3>\n",
    "</div>"
   ]
  },
  {
   "cell_type": "code",
   "execution_count": 63,
   "id": "71328746",
   "metadata": {},
   "outputs": [
    {
     "name": "stdout",
     "output_type": "stream",
     "text": [
      "Disponibilité totale : 9848994000000.0  kg\n"
     ]
    }
   ],
   "source": [
    "#Calcul de la disponibilité totale\n",
    "print(\"Disponibilité totale :\" ,Data_dispo['Disponibilité intérieure'].sum(), \" kg\")"
   ]
  },
  {
   "cell_type": "code",
   "execution_count": 64,
   "id": "4a1f24d4-0b46-4c76-b6bc-14c59ad8aabe",
   "metadata": {},
   "outputs": [
    {
     "name": "stdout",
     "output_type": "stream",
     "text": [
      "Disponibilité totale avec formule : 10057977000000.0  kg\n"
     ]
    }
   ],
   "source": [
    "#Calcul de la disponibilité totale avec la formule\n",
    "Data_dispo['Dispo_totale'] = Data_dispo['Production'] + Data_dispo['Importations - Quantité'] - Data_dispo['Exportations - Quantité'] - Data_dispo['Variation de stock']\n",
    "print(\"Disponibilité totale avec formule :\", Data_dispo['Dispo_totale'].sum(), \" kg\")"
   ]
  },
  {
   "cell_type": "code",
   "execution_count": 65,
   "id": "1e6ea482-4bb7-4b3d-a1ac-80ed33521016",
   "metadata": {},
   "outputs": [
    {
     "name": "stdout",
     "output_type": "stream",
     "text": [
      "2 % d'écart entre les 2 valeurs\n"
     ]
    }
   ],
   "source": [
    "#Calcul de l'écart de de la disponibilité\n",
    "print(round((Data_dispo['Dispo_totale'].sum()-Data_dispo['Disponibilité intérieure'].sum()) / Data_dispo['Disponibilité intérieure'].sum()*100), \"% d'écart entre les 2 valeurs\")"
   ]
  },
  {
   "cell_type": "code",
   "execution_count": 66,
   "id": "03248095",
   "metadata": {},
   "outputs": [
    {
     "name": "stdout",
     "output_type": "stream",
     "text": [
      "Aliments pour animaux : 1304245000000.0\n",
      "Pertes : 453698000000.0\n",
      "Nourriture : 4876258000000.0\n"
     ]
    }
   ],
   "source": [
    "#création d'une boucle for pour afficher les différentes valeurs en fonction des colonnes aliments pour animaux, pertes, nourritures, \n",
    "liste = ['Aliments pour animaux', 'Pertes', 'Nourriture']\n",
    "for i in liste:\n",
    "    print( i, \":\", Data_dispo[i].sum())"
   ]
  },
  {
   "cell_type": "markdown",
   "id": "141d05df",
   "metadata": {},
   "source": [
    "<div style=\"border: 1px solid RGB(0,150,250);\" >\n",
    "<h3 style=\"margin: auto; padding: 20px; color: RGB(0,150,250); \">3.5 - Utilisation des céréales</h3>\n",
    "</div>"
   ]
  },
  {
   "cell_type": "code",
   "execution_count": 67,
   "id": "c27448ff",
   "metadata": {},
   "outputs": [],
   "source": [
    "#Création d'une liste avec toutes les variables\n",
    "liste_cereales = ['Blé', 'Riz (Eq Blanchi)', 'Orge', 'Maîs', 'Seigle', 'Avoine', 'Millet','Sorgho', 'Céréales, Autres']"
   ]
  },
  {
   "cell_type": "code",
   "execution_count": 68,
   "id": "5dc5586d",
   "metadata": {},
   "outputs": [],
   "source": [
    "#Création d'un dataframe avec les informations uniquement pour ces céréales\n",
    "data_cereales = Data_dispo[Data_dispo['Produit'].isin(liste_cereales)]"
   ]
  },
  {
   "cell_type": "code",
   "execution_count": 69,
   "id": "8365de95",
   "metadata": {},
   "outputs": [
    {
     "name": "stdout",
     "output_type": "stream",
     "text": [
      "Proportion d'alimentation animale : 22.561948732083792 %\n"
     ]
    }
   ],
   "source": [
    "#Affichage de la proportion d'alimentation animale\n",
    "Proportion_animale = data_cereales['Aliments pour animaux'].sum() /data_cereales['Disponibilité intérieure'].sum() * 100\n",
    "print(\"Proportion d'alimentation animale :\",Proportion_animale, \"%\")"
   ]
  },
  {
   "cell_type": "code",
   "execution_count": 70,
   "id": "6f5e93c7",
   "metadata": {},
   "outputs": [
    {
     "data": {
      "text/plain": [
       "(np.float64(1304245000000.0), np.float64(9848994000000.0))"
      ]
     },
     "execution_count": 70,
     "metadata": {},
     "output_type": "execute_result"
    }
   ],
   "source": [
    "#Affichage de la proportion d'alimentation animale\n",
    "dispo_alimentaire['Aliments pour animaux'].sum(), dispo_alimentaire['Disponibilité intérieure'].sum()"
   ]
  },
  {
   "cell_type": "markdown",
   "id": "a603be79",
   "metadata": {},
   "source": [
    "<div style=\"border: 1px solid RGB(0,150,250);\" >\n",
    "<h3 style=\"margin: auto; padding: 20px; color: RGB(0,150,250); \">3.6 - Pays avec la proportion de personnes sous-alimentée la plus forte en 2017</h3>\n",
    "</div>"
   ]
  },
  {
   "cell_type": "code",
   "execution_count": 71,
   "id": "1884c270",
   "metadata": {},
   "outputs": [
    {
     "data": {
      "text/html": [
       "<div>\n",
       "<style scoped>\n",
       "    .dataframe tbody tr th:only-of-type {\n",
       "        vertical-align: middle;\n",
       "    }\n",
       "\n",
       "    .dataframe tbody tr th {\n",
       "        vertical-align: top;\n",
       "    }\n",
       "\n",
       "    .dataframe thead th {\n",
       "        text-align: right;\n",
       "    }\n",
       "</style>\n",
       "<table border=\"1\" class=\"dataframe\">\n",
       "  <thead>\n",
       "    <tr style=\"text-align: right;\">\n",
       "      <th></th>\n",
       "      <th>Zone</th>\n",
       "      <th>Année</th>\n",
       "      <th>sous_nutrition</th>\n",
       "      <th>Population</th>\n",
       "      <th>proportion_en_%</th>\n",
       "    </tr>\n",
       "  </thead>\n",
       "  <tbody>\n",
       "    <tr>\n",
       "      <th>0</th>\n",
       "      <td>Afghanistan</td>\n",
       "      <td>2017</td>\n",
       "      <td>10500000.0</td>\n",
       "      <td>36296113.0</td>\n",
       "      <td>28.928718</td>\n",
       "    </tr>\n",
       "    <tr>\n",
       "      <th>1</th>\n",
       "      <td>Afrique du Sud</td>\n",
       "      <td>2017</td>\n",
       "      <td>3100000.0</td>\n",
       "      <td>57009756.0</td>\n",
       "      <td>5.437666</td>\n",
       "    </tr>\n",
       "    <tr>\n",
       "      <th>2</th>\n",
       "      <td>Albanie</td>\n",
       "      <td>2017</td>\n",
       "      <td>100000.0</td>\n",
       "      <td>2884169.0</td>\n",
       "      <td>3.467203</td>\n",
       "    </tr>\n",
       "    <tr>\n",
       "      <th>3</th>\n",
       "      <td>Algérie</td>\n",
       "      <td>2017</td>\n",
       "      <td>1300000.0</td>\n",
       "      <td>41389189.0</td>\n",
       "      <td>3.140917</td>\n",
       "    </tr>\n",
       "    <tr>\n",
       "      <th>4</th>\n",
       "      <td>Allemagne</td>\n",
       "      <td>2017</td>\n",
       "      <td>0.0</td>\n",
       "      <td>82658409.0</td>\n",
       "      <td>0.000000</td>\n",
       "    </tr>\n",
       "    <tr>\n",
       "      <th>...</th>\n",
       "      <td>...</td>\n",
       "      <td>...</td>\n",
       "      <td>...</td>\n",
       "      <td>...</td>\n",
       "      <td>...</td>\n",
       "    </tr>\n",
       "    <tr>\n",
       "      <th>198</th>\n",
       "      <td>Venezuela (République bolivarienne du)</td>\n",
       "      <td>2017</td>\n",
       "      <td>8000000.0</td>\n",
       "      <td>29402484.0</td>\n",
       "      <td>27.208586</td>\n",
       "    </tr>\n",
       "    <tr>\n",
       "      <th>199</th>\n",
       "      <td>Viet Nam</td>\n",
       "      <td>2017</td>\n",
       "      <td>6500000.0</td>\n",
       "      <td>94600648.0</td>\n",
       "      <td>6.870989</td>\n",
       "    </tr>\n",
       "    <tr>\n",
       "      <th>200</th>\n",
       "      <td>Yémen</td>\n",
       "      <td>2017</td>\n",
       "      <td>0.0</td>\n",
       "      <td>27834819.0</td>\n",
       "      <td>0.000000</td>\n",
       "    </tr>\n",
       "    <tr>\n",
       "      <th>201</th>\n",
       "      <td>Zambie</td>\n",
       "      <td>2017</td>\n",
       "      <td>0.0</td>\n",
       "      <td>16853599.0</td>\n",
       "      <td>0.000000</td>\n",
       "    </tr>\n",
       "    <tr>\n",
       "      <th>202</th>\n",
       "      <td>Zimbabwe</td>\n",
       "      <td>2017</td>\n",
       "      <td>0.0</td>\n",
       "      <td>14236595.0</td>\n",
       "      <td>0.000000</td>\n",
       "    </tr>\n",
       "  </tbody>\n",
       "</table>\n",
       "<p>203 rows × 5 columns</p>\n",
       "</div>"
      ],
      "text/plain": [
       "                                       Zone  Année  sous_nutrition  \\\n",
       "0                               Afghanistan   2017      10500000.0   \n",
       "1                            Afrique du Sud   2017       3100000.0   \n",
       "2                                   Albanie   2017        100000.0   \n",
       "3                                   Algérie   2017       1300000.0   \n",
       "4                                 Allemagne   2017             0.0   \n",
       "..                                      ...    ...             ...   \n",
       "198  Venezuela (République bolivarienne du)   2017       8000000.0   \n",
       "199                                Viet Nam   2017       6500000.0   \n",
       "200                                   Yémen   2017             0.0   \n",
       "201                                  Zambie   2017             0.0   \n",
       "202                                Zimbabwe   2017             0.0   \n",
       "\n",
       "     Population  proportion_en_%  \n",
       "0    36296113.0        28.928718  \n",
       "1    57009756.0         5.437666  \n",
       "2     2884169.0         3.467203  \n",
       "3    41389189.0         3.140917  \n",
       "4    82658409.0         0.000000  \n",
       "..          ...              ...  \n",
       "198  29402484.0        27.208586  \n",
       "199  94600648.0         6.870989  \n",
       "200  27834819.0         0.000000  \n",
       "201  16853599.0         0.000000  \n",
       "202  14236595.0         0.000000  \n",
       "\n",
       "[203 rows x 5 columns]"
      ]
     },
     "execution_count": 71,
     "metadata": {},
     "output_type": "execute_result"
    }
   ],
   "source": [
    "#Création de la colonne proportion par pays\n",
    "data_SN_2017['proportion_en_%'] = (data_SN_2017['sous_nutrition'] / data_SN_2017['Population']) * 100\n",
    "data_SN_2017"
   ]
  },
  {
   "cell_type": "code",
   "execution_count": 72,
   "id": "25a185b6",
   "metadata": {},
   "outputs": [
    {
     "data": {
      "text/html": [
       "<div>\n",
       "<style scoped>\n",
       "    .dataframe tbody tr th:only-of-type {\n",
       "        vertical-align: middle;\n",
       "    }\n",
       "\n",
       "    .dataframe tbody tr th {\n",
       "        vertical-align: top;\n",
       "    }\n",
       "\n",
       "    .dataframe thead th {\n",
       "        text-align: right;\n",
       "    }\n",
       "</style>\n",
       "<table border=\"1\" class=\"dataframe\">\n",
       "  <thead>\n",
       "    <tr style=\"text-align: right;\">\n",
       "      <th></th>\n",
       "      <th>Zone</th>\n",
       "      <th>proportion_en_%</th>\n",
       "    </tr>\n",
       "  </thead>\n",
       "  <tbody>\n",
       "    <tr>\n",
       "      <th>78</th>\n",
       "      <td>Haïti</td>\n",
       "      <td>48.259182</td>\n",
       "    </tr>\n",
       "    <tr>\n",
       "      <th>157</th>\n",
       "      <td>République populaire démocratique de Corée</td>\n",
       "      <td>47.188685</td>\n",
       "    </tr>\n",
       "    <tr>\n",
       "      <th>108</th>\n",
       "      <td>Madagascar</td>\n",
       "      <td>41.062924</td>\n",
       "    </tr>\n",
       "    <tr>\n",
       "      <th>103</th>\n",
       "      <td>Libéria</td>\n",
       "      <td>38.279742</td>\n",
       "    </tr>\n",
       "    <tr>\n",
       "      <th>100</th>\n",
       "      <td>Lesotho</td>\n",
       "      <td>38.249438</td>\n",
       "    </tr>\n",
       "    <tr>\n",
       "      <th>183</th>\n",
       "      <td>Tchad</td>\n",
       "      <td>37.957606</td>\n",
       "    </tr>\n",
       "    <tr>\n",
       "      <th>161</th>\n",
       "      <td>Rwanda</td>\n",
       "      <td>35.055619</td>\n",
       "    </tr>\n",
       "    <tr>\n",
       "      <th>121</th>\n",
       "      <td>Mozambique</td>\n",
       "      <td>32.810898</td>\n",
       "    </tr>\n",
       "    <tr>\n",
       "      <th>186</th>\n",
       "      <td>Timor-Leste</td>\n",
       "      <td>32.173531</td>\n",
       "    </tr>\n",
       "    <tr>\n",
       "      <th>0</th>\n",
       "      <td>Afghanistan</td>\n",
       "      <td>28.928718</td>\n",
       "    </tr>\n",
       "  </tbody>\n",
       "</table>\n",
       "</div>"
      ],
      "text/plain": [
       "                                           Zone  proportion_en_%\n",
       "78                                        Haïti        48.259182\n",
       "157  République populaire démocratique de Corée        47.188685\n",
       "108                                  Madagascar        41.062924\n",
       "103                                     Libéria        38.279742\n",
       "100                                     Lesotho        38.249438\n",
       "183                                       Tchad        37.957606\n",
       "161                                      Rwanda        35.055619\n",
       "121                                  Mozambique        32.810898\n",
       "186                                 Timor-Leste        32.173531\n",
       "0                                   Afghanistan        28.928718"
      ]
     },
     "execution_count": 72,
     "metadata": {},
     "output_type": "execute_result"
    }
   ],
   "source": [
    "#affichage après trie des 10 pires pays en 2017\n",
    "top_10 = data_SN_2017.sort_values('proportion_en_%', ascending=False).loc[:, ['Zone', 'proportion_en_%']].head(10)\n",
    "top_10"
   ]
  },
  {
   "cell_type": "code",
   "execution_count": 73,
   "id": "4e0fee3f-3869-4a80-9b20-2a0f62e0ad36",
   "metadata": {},
   "outputs": [
    {
     "data": {
      "image/png": "[encoded data removed]",
      "text/plain": [
       "<Figure size 511.111x500 with 1 Axes>"
      ]
     },
     "metadata": {},
     "output_type": "display_data"
    }
   ],
   "source": [
    "#affichage après trie des 10 pires pays avec GRAPHIQUE\n",
    "g = sns.catplot(data=top_10, x='Zone', y='proportion_en_%', kind='bar')\n",
    "g.fig.suptitle(\"10 Pays avec le plus fort pourcentage de sous-nutrition\", y=1.05)\n",
    "g.set_xticklabels(rotation = 90)\n",
    "plt.show()"
   ]
  },
  {
   "cell_type": "markdown",
   "id": "4f610008",
   "metadata": {},
   "source": [
    "<div style=\"border: 1px solid RGB(0,150,250);\" >\n",
    "<h3 style=\"margin: auto; padding: 20px; color: RGB(0,150,250); \">3.7 - Pays qui ont le plus bénéficié d'aide alimentaire depuis 2013</h3>\n",
    "</div>"
   ]
  },
  {
   "cell_type": "code",
   "execution_count": 74,
   "id": "ff1b24a3",
   "metadata": {},
   "outputs": [
    {
     "name": "stdout",
     "output_type": "stream",
     "text": [
      "Zone\n",
      "Afghanistan     185452000000\n",
      "Algérie          81114000000\n",
      "Angola            5014000000\n",
      "Bangladesh      348188000000\n",
      "Bhoutan           2666000000\n",
      "                   ...      \n",
      "Zambie            3026000000\n",
      "Zimbabwe         62570000000\n",
      "Égypte            1122000000\n",
      "Équateur          1362000000\n",
      "Éthiopie       1381294000000\n",
      "Name: Valeur, Length: 76, dtype: int64\n"
     ]
    }
   ],
   "source": [
    "#calcul du total de l'aide alimentaire par pays\n",
    "total_aide_par_pays= aide_alimentaire.groupby(\"Zone\")['Valeur'].sum()\n",
    "print(total_aide_par_pays)"
   ]
  },
  {
   "cell_type": "code",
   "execution_count": 75,
   "id": "432b5675-3801-4ba0-94d9-ca8f96588b9a",
   "metadata": {},
   "outputs": [
    {
     "name": "stdout",
     "output_type": "stream",
     "text": [
      "Zone\n",
      "République arabe syrienne           1858943000000\n",
      "Éthiopie                            1381294000000\n",
      "Yémen                               1206484000000\n",
      "Soudan du Sud                        695248000000\n",
      "Soudan                               669784000000\n",
      "Kenya                                552836000000\n",
      "Bangladesh                           348188000000\n",
      "Somalie                              292678000000\n",
      "République démocratique du Congo     288502000000\n",
      "Niger                                276344000000\n",
      "Name: Valeur, dtype: int64\n"
     ]
    }
   ],
   "source": [
    "#affichage après trie des 10 pays qui ont bénéficié le plus de l'aide alimentaire\n",
    "top_10_aide = total_aide_par_pays.sort_values(ascending=False).head(10)\n",
    "print(top_10_aide)"
   ]
  },
  {
   "cell_type": "code",
   "execution_count": 76,
   "id": "d340c624-5bb2-453b-9191-994b5693c896",
   "metadata": {},
   "outputs": [
    {
     "name": "stdout",
     "output_type": "stream",
     "text": [
      "['Bangladesh', 'Éthiopie', 'Kenya', 'Niger', 'République arabe syrienne', 'République démocratique du Congo', 'Somalie', 'Soudan', 'Soudan du Sud', 'Yémen']\n",
      "Categories (10, object): ['Niger' < 'République démocratique du Congo' < 'Somalie' < 'Bangladesh' ... 'Soudan du Sud' < 'Yémen' < 'Éthiopie' < 'République arabe syrienne']\n"
     ]
    }
   ],
   "source": [
    "#Création de la liste des 10 pays\n",
    "liste_top_10 = top_10_aide.index\n",
    "top_10_aide_graph = aide_alimentaire[aide_alimentaire[\"Zone\"].isin(liste_top_10)].copy()\n",
    "top_10_aide_graph[\"Zone\"] = pd.Categorical(top_10_aide_graph[\"Zone\"], \n",
    "                              categories=[\"Niger\",\"République démocratique du Congo\",\"Somalie\" ,\"Bangladesh\" ,\"Kenya\" , \"Soudan\",\n",
    "                                          \"Soudan du Sud\", \"Yémen\",\"Éthiopie\", \"République arabe syrienne\"],\n",
    "                              ordered = True)\n",
    "print(top_10_aide_graph[\"Zone\"].unique())"
   ]
  },
  {
   "cell_type": "code",
   "execution_count": 77,
   "id": "f33f5dd1-16c1-427e-85a6-2f37bda5c8b6",
   "metadata": {},
   "outputs": [
    {
     "data": {
      "image/png": "[encoded data removed]",
      "text/plain": [
       "<Figure size 511.111x500 with 1 Axes>"
      ]
     },
     "metadata": {},
     "output_type": "display_data"
    }
   ],
   "source": [
    "#Affichage en graphique\n",
    "g = sns.catplot(data=top_10_aide_graph, x=\"Zone\", y='Valeur', kind='bar', errorbar=None)\n",
    "g.fig.suptitle(\"10 Pays bénéfiant le plus de l'aide alimentaire\", y=1.05)\n",
    "g.set_xticklabels(rotation = 90)\n",
    "plt.show()"
   ]
  },
  {
   "cell_type": "markdown",
   "id": "a361ce61",
   "metadata": {},
   "source": [
    "<div style=\"border: 1px solid RGB(0,150,250);\" >\n",
    "<h3 style=\"margin: auto; padding: 20px; color: RGB(0,150,250); \">3.8 - Evolution des 5 pays qui ont le plus bénéficiés de l'aide alimentaire entre 2013 et 2016</h3>\n",
    "</div>"
   ]
  },
  {
   "cell_type": "code",
   "execution_count": 78,
   "id": "09d55114",
   "metadata": {},
   "outputs": [
    {
     "name": "stdout",
     "output_type": "stream",
     "text": [
      "Zone                              Année\n",
      "République arabe syrienne         2014     651870000000\n",
      "Éthiopie                          2013     591404000000\n",
      "                                  2014     586624000000\n",
      "République arabe syrienne         2013     563566000000\n",
      "                                  2015     524949000000\n",
      "Yémen                             2016     465574000000\n",
      "Soudan du Sud                     2014     450610000000\n",
      "Yémen                             2015     372306000000\n",
      "Soudan                            2013     330230000000\n",
      "                                  2014     321904000000\n",
      "Yémen                             2013     264764000000\n",
      "Kenya                             2013     220966000000\n",
      "                                  2014     217418000000\n",
      "Éthiopie                          2015     203266000000\n",
      "Soudan du Sud                     2013     196330000000\n",
      "Bangladesh                        2014     194628000000\n",
      "République démocratique du Congo  2013     150320000000\n",
      "Somalie                           2013     139800000000\n",
      "Bangladesh                        2013     131018000000\n",
      "Afghanistan                       2013     128238000000\n",
      "Name: Valeur, dtype: int64\n"
     ]
    }
   ],
   "source": [
    "#Création d'un dataframe avec la zone, l'année et l'aide alimentaire puis groupby sur zone et année \n",
    "data_aide_evolution = aide_alimentaire[[\"Zone\", 'Année', 'Valeur']].copy()\n",
    "data_aide_evolution_groupby = data_aide_evolution.groupby([\"Zone\", 'Année'])['Valeur'].sum()\n",
    "print(data_aide_evolution_groupby.sort_values(ascending=False).head(20))"
   ]
  },
  {
   "cell_type": "code",
   "execution_count": 79,
   "id": "6bd577b0",
   "metadata": {},
   "outputs": [
    {
     "name": "stdout",
     "output_type": "stream",
     "text": [
      "['Éthiopie', 'République arabe syrienne', 'Soudan', 'Soudan du Sud', 'Yémen']\n",
      "Categories (5, object): ['République arabe syrienne' < 'Éthiopie' < 'Yémen' < 'Soudan du Sud' < 'Soudan']\n"
     ]
    }
   ],
   "source": [
    "#Création d'une liste contenant les 5 pays qui ont le plus bénéficiées de l'aide alimentaire\n",
    "Liste_5_pays = liste_top_10[0:5]\n",
    "top_5_aide_graph = aide_alimentaire[aide_alimentaire[\"Zone\"].isin(Liste_5_pays)].copy()\n",
    "top_5_aide_graph[\"Zone\"] = pd.Categorical(\n",
    "    top_5_aide_graph[\"Zone\"],\n",
    "    categories=Liste_5_pays,\n",
    "    ordered=True\n",
    ")\n",
    "Liste_5_pays = top_5_aide_graph[\"Zone\"].unique()\n",
    "print(Liste_5_pays)"
   ]
  },
  {
   "cell_type": "code",
   "execution_count": 80,
   "id": "4eed3cc8-2c0c-4741-b758-1d9914c73be5",
   "metadata": {},
   "outputs": [
    {
     "data": {
      "text/plain": [
       "155"
      ]
     },
     "execution_count": 80,
     "metadata": {},
     "output_type": "execute_result"
    }
   ],
   "source": [
    "len(top_5_aide_graph)"
   ]
  },
  {
   "cell_type": "code",
   "execution_count": 81,
   "id": "41612dbd",
   "metadata": {},
   "outputs": [
    {
     "data": {
      "text/html": [
       "<div>\n",
       "<style scoped>\n",
       "    .dataframe tbody tr th:only-of-type {\n",
       "        vertical-align: middle;\n",
       "    }\n",
       "\n",
       "    .dataframe tbody tr th {\n",
       "        vertical-align: top;\n",
       "    }\n",
       "\n",
       "    .dataframe thead th {\n",
       "        text-align: right;\n",
       "    }\n",
       "</style>\n",
       "<table border=\"1\" class=\"dataframe\">\n",
       "  <thead>\n",
       "    <tr style=\"text-align: right;\">\n",
       "      <th></th>\n",
       "      <th>Zone</th>\n",
       "      <th>Année</th>\n",
       "      <th>Valeur</th>\n",
       "    </tr>\n",
       "  </thead>\n",
       "  <tbody>\n",
       "    <tr>\n",
       "      <th>354</th>\n",
       "      <td>Éthiopie</td>\n",
       "      <td>2013</td>\n",
       "      <td>170000000</td>\n",
       "    </tr>\n",
       "    <tr>\n",
       "      <th>355</th>\n",
       "      <td>Éthiopie</td>\n",
       "      <td>2014</td>\n",
       "      <td>466000000</td>\n",
       "    </tr>\n",
       "    <tr>\n",
       "      <th>356</th>\n",
       "      <td>Éthiopie</td>\n",
       "      <td>2015</td>\n",
       "      <td>244000000</td>\n",
       "    </tr>\n",
       "    <tr>\n",
       "      <th>357</th>\n",
       "      <td>Éthiopie</td>\n",
       "      <td>2013</td>\n",
       "      <td>181066000000</td>\n",
       "    </tr>\n",
       "    <tr>\n",
       "      <th>358</th>\n",
       "      <td>Éthiopie</td>\n",
       "      <td>2014</td>\n",
       "      <td>178646000000</td>\n",
       "    </tr>\n",
       "    <tr>\n",
       "      <th>...</th>\n",
       "      <td>...</td>\n",
       "      <td>...</td>\n",
       "      <td>...</td>\n",
       "    </tr>\n",
       "    <tr>\n",
       "      <th>1447</th>\n",
       "      <td>Yémen</td>\n",
       "      <td>2015</td>\n",
       "      <td>1797000000</td>\n",
       "    </tr>\n",
       "    <tr>\n",
       "      <th>1448</th>\n",
       "      <td>Yémen</td>\n",
       "      <td>2013</td>\n",
       "      <td>161000000</td>\n",
       "    </tr>\n",
       "    <tr>\n",
       "      <th>1449</th>\n",
       "      <td>Yémen</td>\n",
       "      <td>2014</td>\n",
       "      <td>81000000</td>\n",
       "    </tr>\n",
       "    <tr>\n",
       "      <th>1450</th>\n",
       "      <td>Yémen</td>\n",
       "      <td>2015</td>\n",
       "      <td>7617000000</td>\n",
       "    </tr>\n",
       "    <tr>\n",
       "      <th>1451</th>\n",
       "      <td>Yémen</td>\n",
       "      <td>2016</td>\n",
       "      <td>2675000000</td>\n",
       "    </tr>\n",
       "  </tbody>\n",
       "</table>\n",
       "<p>155 rows × 3 columns</p>\n",
       "</div>"
      ],
      "text/plain": [
       "          Zone  Année        Valeur\n",
       "354   Éthiopie   2013     170000000\n",
       "355   Éthiopie   2014     466000000\n",
       "356   Éthiopie   2015     244000000\n",
       "357   Éthiopie   2013  181066000000\n",
       "358   Éthiopie   2014  178646000000\n",
       "...        ...    ...           ...\n",
       "1447     Yémen   2015    1797000000\n",
       "1448     Yémen   2013     161000000\n",
       "1449     Yémen   2014      81000000\n",
       "1450     Yémen   2015    7617000000\n",
       "1451     Yémen   2016    2675000000\n",
       "\n",
       "[155 rows x 3 columns]"
      ]
     },
     "execution_count": 81,
     "metadata": {},
     "output_type": "execute_result"
    }
   ],
   "source": [
    "#On filtre sur le dataframe avec notre liste\n",
    "data_aide_evolution = data_aide_evolution[data_aide_evolution[\"Zone\"].isin(Liste_5_pays)]\n",
    "data_aide_evolution"
   ]
  },
  {
   "cell_type": "code",
   "execution_count": 82,
   "id": "4e20e551-62f8-4bd8-8c66-32e23978e98a",
   "metadata": {},
   "outputs": [
    {
     "data": {
      "text/plain": [
       "Zone                       Année\n",
       "République arabe syrienne  2013     563566000000\n",
       "                           2014     651870000000\n",
       "                           2015     524949000000\n",
       "                           2016     118558000000\n",
       "Soudan                     2013     330230000000\n",
       "                           2014     321904000000\n",
       "                           2015      17650000000\n",
       "Soudan du Sud              2013     196330000000\n",
       "                           2014     450610000000\n",
       "                           2015      48308000000\n",
       "Yémen                      2013     264764000000\n",
       "                           2014     103840000000\n",
       "                           2015     372306000000\n",
       "                           2016     465574000000\n",
       "Éthiopie                   2013     591404000000\n",
       "                           2014     586624000000\n",
       "                           2015     203266000000\n",
       "Name: Valeur, dtype: int64"
      ]
     },
     "execution_count": 82,
     "metadata": {},
     "output_type": "execute_result"
    }
   ],
   "source": [
    "data_aide_evolution.groupby([\"Zone\", \"Année\"])[\"Valeur\"].sum()"
   ]
  },
  {
   "cell_type": "code",
   "execution_count": 83,
   "id": "79d3c90b-d8ab-4314-bfba-5aaf17746c46",
   "metadata": {},
   "outputs": [],
   "source": [
    "#Je trie au préalable les dates\n",
    "data_aide_evolution[\"Année\"] = data_aide_evolution[\"Année\"].sort_values()"
   ]
  },
  {
   "cell_type": "code",
   "execution_count": 84,
   "id": "5680e72d",
   "metadata": {},
   "outputs": [
    {
     "data": {
      "image/png": "[encoded data removed]",
      "text/plain": [
       "<Figure size 736.5x500 with 1 Axes>"
      ]
     },
     "metadata": {},
     "output_type": "display_data"
    }
   ],
   "source": [
    "# Affichage des pays avec l'aide alimentaire par année\n",
    "g = sns.relplot(data=data_aide_evolution, x='Année', y='Valeur', hue=\"Zone\", errorbar=None, kind='line')\n",
    "g.fig.suptitle(\"Evolution de l'aide alimentaire des pays\", y=1.05)\n",
    "plt.show()"
   ]
  },
  {
   "cell_type": "markdown",
   "id": "bd392dac",
   "metadata": {},
   "source": [
    "<div style=\"border: 1px solid RGB(0,150,250);\" >\n",
    "<h3 style=\"margin: auto; padding: 20px; color: RGB(0,150,250); \">3.9 - Pays avec le moins de disponibilité par habitant</h3>\n",
    "</div>"
   ]
  },
  {
   "cell_type": "code",
   "execution_count": 85,
   "id": "fb3a378b",
   "metadata": {},
   "outputs": [
    {
     "name": "stdout",
     "output_type": "stream",
     "text": [
      "0        2087.0\n",
      "1        2087.0\n",
      "2        2087.0\n",
      "3        2087.0\n",
      "4        2087.0\n",
      "          ...  \n",
      "15600    2383.0\n",
      "15601    2383.0\n",
      "15602    2383.0\n",
      "15603    2383.0\n",
      "15604    2383.0\n",
      "Name: Disponibilité(Kcal/personne/jour) par_pays, Length: 15605, dtype: float64\n"
     ]
    }
   ],
   "source": [
    "#Calcul de la disponibilité en kcal par personne par jour par pays\n",
    "#Pour cela j'ajoute une nouvelle colonne au Dataframe\n",
    "Data_dispo['Disponibilité(Kcal/personne/jour) par_pays'] = Data_dispo.groupby('Zone')['Disponibilité alimentaire (Kcal/personne/jour)'].transform(lambda x :x.sum())\n",
    "print(Data_dispo['Disponibilité(Kcal/personne/jour) par_pays'])"
   ]
  },
  {
   "cell_type": "code",
   "execution_count": 86,
   "id": "70c0f689",
   "metadata": {},
   "outputs": [
    {
     "data": {
      "text/plain": [
       "Zone\n",
       "République centrafricaine                     1879.0\n",
       "Zambie                                        1924.0\n",
       "Madagascar                                    2056.0\n",
       "Afghanistan                                   2087.0\n",
       "Haïti                                         2089.0\n",
       "République populaire démocratique de Corée    2093.0\n",
       "Tchad                                         2109.0\n",
       "Zimbabwe                                      2113.0\n",
       "Ouganda                                       2126.0\n",
       "Éthiopie                                      2129.0\n",
       "Name: Disponibilité alimentaire (Kcal/personne/jour), dtype: float64"
      ]
     },
     "execution_count": 86,
     "metadata": {},
     "output_type": "execute_result"
    }
   ],
   "source": [
    "#Affichage des 10 pays qui ont le moins de dispo alimentaire par personne \n",
    "Data_dispo.groupby('Zone')['Disponibilité alimentaire (Kcal/personne/jour)'].sum().sort_values().head(10)"
   ]
  },
  {
   "cell_type": "code",
   "execution_count": 87,
   "id": "372d993b-022c-447a-a769-ea8e3780e633",
   "metadata": {},
   "outputs": [
    {
     "data": {
      "image/png": "[encoded data removed]",
      "text/plain": [
       "<Figure size 511.111x500 with 1 Axes>"
      ]
     },
     "metadata": {},
     "output_type": "display_data"
    }
   ],
   "source": [
    "#Graphique des 10 pays qui ont le moins de dispo alimentaire par personne\n",
    "Serie = Data_dispo.groupby('Zone')['Disponibilité alimentaire (Kcal/personne/jour)'].sum().sort_values().head(10)\n",
    "top_10_faible_dispo = Serie.reset_index()\n",
    "g=sns.catplot(data = top_10_faible_dispo, x='Zone', y='Disponibilité alimentaire (Kcal/personne/jour)', kind='bar')\n",
    "g.fig.suptitle(\"TOP 10 Pays avec lele moins de disponibilité alimentaire par personne\", y=1.05)\n",
    "g.set_xticklabels(rotation = 90)\n",
    "plt.show()"
   ]
  },
  {
   "cell_type": "markdown",
   "id": "2553ed12",
   "metadata": {},
   "source": [
    "<div style=\"border: 1px solid RGB(0,150,250);\" >\n",
    "<h3 style=\"margin: auto; padding: 20px; color: RGB(0,150,250); \">3.10 - Pays avec le plus de disponibilité par habitant</h3>\n",
    "</div>"
   ]
  },
  {
   "cell_type": "code",
   "execution_count": 88,
   "id": "4d4c119d-78de-4d50-a6da-ad490abad6d4",
   "metadata": {},
   "outputs": [
    {
     "data": {
      "text/html": [
       "<div>\n",
       "<style scoped>\n",
       "    .dataframe tbody tr th:only-of-type {\n",
       "        vertical-align: middle;\n",
       "    }\n",
       "\n",
       "    .dataframe tbody tr th {\n",
       "        vertical-align: top;\n",
       "    }\n",
       "\n",
       "    .dataframe thead th {\n",
       "        text-align: right;\n",
       "    }\n",
       "</style>\n",
       "<table border=\"1\" class=\"dataframe\">\n",
       "  <thead>\n",
       "    <tr style=\"text-align: right;\">\n",
       "      <th></th>\n",
       "      <th>Zone</th>\n",
       "      <th>Produit</th>\n",
       "      <th>Origine</th>\n",
       "      <th>Aliments pour animaux</th>\n",
       "      <th>Autres Utilisations</th>\n",
       "      <th>Disponibilité alimentaire (Kcal/personne/jour)</th>\n",
       "      <th>Disponibilité alimentaire en quantité (kg/personne/an)</th>\n",
       "      <th>Disponibilité de matière grasse en quantité (g/personne/jour)</th>\n",
       "      <th>Disponibilité de protéines en quantité (g/personne/jour)</th>\n",
       "      <th>Disponibilité intérieure</th>\n",
       "      <th>...</th>\n",
       "      <th>Nourriture</th>\n",
       "      <th>Pertes</th>\n",
       "      <th>Production</th>\n",
       "      <th>Semences</th>\n",
       "      <th>Traitement</th>\n",
       "      <th>Variation de stock</th>\n",
       "      <th>Population</th>\n",
       "      <th>dispo_kcal</th>\n",
       "      <th>Dispo_totale</th>\n",
       "      <th>Disponibilité(Kcal/personne/jour) par_pays</th>\n",
       "    </tr>\n",
       "  </thead>\n",
       "  <tbody>\n",
       "    <tr>\n",
       "      <th>0</th>\n",
       "      <td>Afghanistan</td>\n",
       "      <td>Abats Comestible</td>\n",
       "      <td>animale</td>\n",
       "      <td>0.0</td>\n",
       "      <td>0.0</td>\n",
       "      <td>5.0</td>\n",
       "      <td>1.72</td>\n",
       "      <td>0.20</td>\n",
       "      <td>0.77</td>\n",
       "      <td>53000000.0</td>\n",
       "      <td>...</td>\n",
       "      <td>53000000.0</td>\n",
       "      <td>0.0</td>\n",
       "      <td>53000000.0</td>\n",
       "      <td>0.0</td>\n",
       "      <td>0.0</td>\n",
       "      <td>0.0</td>\n",
       "      <td>36296113.0</td>\n",
       "      <td>181480565.0</td>\n",
       "      <td>53000000.0</td>\n",
       "      <td>2087.0</td>\n",
       "    </tr>\n",
       "    <tr>\n",
       "      <th>1</th>\n",
       "      <td>Afghanistan</td>\n",
       "      <td>Agrumes, Autres</td>\n",
       "      <td>vegetale</td>\n",
       "      <td>0.0</td>\n",
       "      <td>0.0</td>\n",
       "      <td>1.0</td>\n",
       "      <td>1.29</td>\n",
       "      <td>0.01</td>\n",
       "      <td>0.02</td>\n",
       "      <td>41000000.0</td>\n",
       "      <td>...</td>\n",
       "      <td>39000000.0</td>\n",
       "      <td>2000000.0</td>\n",
       "      <td>3000000.0</td>\n",
       "      <td>0.0</td>\n",
       "      <td>0.0</td>\n",
       "      <td>0.0</td>\n",
       "      <td>36296113.0</td>\n",
       "      <td>36296113.0</td>\n",
       "      <td>41000000.0</td>\n",
       "      <td>2087.0</td>\n",
       "    </tr>\n",
       "    <tr>\n",
       "      <th>2</th>\n",
       "      <td>Afghanistan</td>\n",
       "      <td>Aliments pour enfants</td>\n",
       "      <td>vegetale</td>\n",
       "      <td>0.0</td>\n",
       "      <td>0.0</td>\n",
       "      <td>1.0</td>\n",
       "      <td>0.06</td>\n",
       "      <td>0.01</td>\n",
       "      <td>0.03</td>\n",
       "      <td>2000000.0</td>\n",
       "      <td>...</td>\n",
       "      <td>2000000.0</td>\n",
       "      <td>0.0</td>\n",
       "      <td>0.0</td>\n",
       "      <td>0.0</td>\n",
       "      <td>0.0</td>\n",
       "      <td>0.0</td>\n",
       "      <td>36296113.0</td>\n",
       "      <td>36296113.0</td>\n",
       "      <td>2000000.0</td>\n",
       "      <td>2087.0</td>\n",
       "    </tr>\n",
       "    <tr>\n",
       "      <th>3</th>\n",
       "      <td>Afghanistan</td>\n",
       "      <td>Ananas</td>\n",
       "      <td>vegetale</td>\n",
       "      <td>0.0</td>\n",
       "      <td>0.0</td>\n",
       "      <td>0.0</td>\n",
       "      <td>0.00</td>\n",
       "      <td>0.00</td>\n",
       "      <td>0.00</td>\n",
       "      <td>0.0</td>\n",
       "      <td>...</td>\n",
       "      <td>0.0</td>\n",
       "      <td>0.0</td>\n",
       "      <td>0.0</td>\n",
       "      <td>0.0</td>\n",
       "      <td>0.0</td>\n",
       "      <td>0.0</td>\n",
       "      <td>36296113.0</td>\n",
       "      <td>0.0</td>\n",
       "      <td>0.0</td>\n",
       "      <td>2087.0</td>\n",
       "    </tr>\n",
       "    <tr>\n",
       "      <th>4</th>\n",
       "      <td>Afghanistan</td>\n",
       "      <td>Bananes</td>\n",
       "      <td>vegetale</td>\n",
       "      <td>0.0</td>\n",
       "      <td>0.0</td>\n",
       "      <td>4.0</td>\n",
       "      <td>2.70</td>\n",
       "      <td>0.02</td>\n",
       "      <td>0.05</td>\n",
       "      <td>82000000.0</td>\n",
       "      <td>...</td>\n",
       "      <td>82000000.0</td>\n",
       "      <td>0.0</td>\n",
       "      <td>0.0</td>\n",
       "      <td>0.0</td>\n",
       "      <td>0.0</td>\n",
       "      <td>0.0</td>\n",
       "      <td>36296113.0</td>\n",
       "      <td>145184452.0</td>\n",
       "      <td>82000000.0</td>\n",
       "      <td>2087.0</td>\n",
       "    </tr>\n",
       "  </tbody>\n",
       "</table>\n",
       "<p>5 rows × 22 columns</p>\n",
       "</div>"
      ],
      "text/plain": [
       "          Zone                Produit   Origine  Aliments pour animaux  \\\n",
       "0  Afghanistan       Abats Comestible   animale                    0.0   \n",
       "1  Afghanistan        Agrumes, Autres  vegetale                    0.0   \n",
       "2  Afghanistan  Aliments pour enfants  vegetale                    0.0   \n",
       "3  Afghanistan                 Ananas  vegetale                    0.0   \n",
       "4  Afghanistan                Bananes  vegetale                    0.0   \n",
       "\n",
       "   Autres Utilisations  Disponibilité alimentaire (Kcal/personne/jour)  \\\n",
       "0                  0.0                                             5.0   \n",
       "1                  0.0                                             1.0   \n",
       "2                  0.0                                             1.0   \n",
       "3                  0.0                                             0.0   \n",
       "4                  0.0                                             4.0   \n",
       "\n",
       "   Disponibilité alimentaire en quantité (kg/personne/an)  \\\n",
       "0                                               1.72        \n",
       "1                                               1.29        \n",
       "2                                               0.06        \n",
       "3                                               0.00        \n",
       "4                                               2.70        \n",
       "\n",
       "   Disponibilité de matière grasse en quantité (g/personne/jour)  \\\n",
       "0                                               0.20               \n",
       "1                                               0.01               \n",
       "2                                               0.01               \n",
       "3                                               0.00               \n",
       "4                                               0.02               \n",
       "\n",
       "   Disponibilité de protéines en quantité (g/personne/jour)  \\\n",
       "0                                               0.77          \n",
       "1                                               0.02          \n",
       "2                                               0.03          \n",
       "3                                               0.00          \n",
       "4                                               0.05          \n",
       "\n",
       "   Disponibilité intérieure  ...  Nourriture     Pertes  Production  Semences  \\\n",
       "0                53000000.0  ...  53000000.0        0.0  53000000.0       0.0   \n",
       "1                41000000.0  ...  39000000.0  2000000.0   3000000.0       0.0   \n",
       "2                 2000000.0  ...   2000000.0        0.0         0.0       0.0   \n",
       "3                       0.0  ...         0.0        0.0         0.0       0.0   \n",
       "4                82000000.0  ...  82000000.0        0.0         0.0       0.0   \n",
       "\n",
       "   Traitement  Variation de stock  Population   dispo_kcal  Dispo_totale  \\\n",
       "0         0.0                 0.0  36296113.0  181480565.0    53000000.0   \n",
       "1         0.0                 0.0  36296113.0   36296113.0    41000000.0   \n",
       "2         0.0                 0.0  36296113.0   36296113.0     2000000.0   \n",
       "3         0.0                 0.0  36296113.0          0.0           0.0   \n",
       "4         0.0                 0.0  36296113.0  145184452.0    82000000.0   \n",
       "\n",
       "   Disponibilité(Kcal/personne/jour) par_pays  \n",
       "0                                      2087.0  \n",
       "1                                      2087.0  \n",
       "2                                      2087.0  \n",
       "3                                      2087.0  \n",
       "4                                      2087.0  \n",
       "\n",
       "[5 rows x 22 columns]"
      ]
     },
     "execution_count": 88,
     "metadata": {},
     "output_type": "execute_result"
    }
   ],
   "source": [
    "Data_dispo.head()"
   ]
  },
  {
   "cell_type": "code",
   "execution_count": 89,
   "id": "63e835c6",
   "metadata": {},
   "outputs": [
    {
     "name": "stdout",
     "output_type": "stream",
     "text": [
      "Zone\n",
      "Autriche                 3770.0\n",
      "Belgique                 3737.0\n",
      "Turquie                  3708.0\n",
      "États-Unis d'Amérique    3682.0\n",
      "Israël                   3610.0\n",
      "Irlande                  3602.0\n",
      "Italie                   3578.0\n",
      "Luxembourg               3540.0\n",
      "Égypte                   3518.0\n",
      "Allemagne                3503.0\n",
      "Name: Disponibilité alimentaire (Kcal/personne/jour), dtype: float64\n"
     ]
    }
   ],
   "source": [
    "#Affichage des 10 pays qui ont le plus de dispo alimentaire par personne \n",
    "top_10_forte_dispo = Data_dispo.groupby('Zone')['Disponibilité alimentaire (Kcal/personne/jour)'].sum().sort_values(ascending = False).head(10)\n",
    "print(top_10_forte_dispo)"
   ]
  },
  {
   "cell_type": "code",
   "execution_count": 90,
   "id": "ee8afaed-88f2-4d1e-be8b-b22ef673ee94",
   "metadata": {},
   "outputs": [
    {
     "data": {
      "image/png": "[encoded data removed]",
      "text/plain": [
       "<Figure size 511.111x500 with 1 Axes>"
      ]
     },
     "metadata": {},
     "output_type": "display_data"
    }
   ],
   "source": [
    "#Graphique des 10 pays qui ont le plus de dispo alimentaire par personne \n",
    "top_10_forte_dispo = top_10_forte_dispo.reset_index() \n",
    "g = sns.catplot(data=top_10_forte_dispo, x='Zone', y='Disponibilité alimentaire (Kcal/personne/jour)', kind='bar')\n",
    "g.fig.suptitle(\"TOP 10 des pays avec la plus forte disponibilité alimentaire par habitant\", y=1.05)\n",
    "g.set_xticklabels(rotation = 90)   \n",
    "plt.show()"
   ]
  },
  {
   "cell_type": "markdown",
   "id": "58d7248b",
   "metadata": {},
   "source": [
    "<div style=\"border: 1px solid RGB(0,150,250);\" >\n",
    "<h3 style=\"margin: auto; padding: 20px; color: RGB(0,150,250); \">3.11 - Exemple de la Thaïlande pour le Manioc</h3>\n",
    "</div>"
   ]
  },
  {
   "cell_type": "code",
   "execution_count": 91,
   "id": "ec9ca912",
   "metadata": {},
   "outputs": [
    {
     "data": {
      "text/html": [
       "<div>\n",
       "<style scoped>\n",
       "    .dataframe tbody tr th:only-of-type {\n",
       "        vertical-align: middle;\n",
       "    }\n",
       "\n",
       "    .dataframe tbody tr th {\n",
       "        vertical-align: top;\n",
       "    }\n",
       "\n",
       "    .dataframe thead th {\n",
       "        text-align: right;\n",
       "    }\n",
       "</style>\n",
       "<table border=\"1\" class=\"dataframe\">\n",
       "  <thead>\n",
       "    <tr style=\"text-align: right;\">\n",
       "      <th></th>\n",
       "      <th>Zone</th>\n",
       "      <th>Produit</th>\n",
       "      <th>Origine</th>\n",
       "      <th>Aliments pour animaux</th>\n",
       "      <th>Autres Utilisations</th>\n",
       "      <th>Disponibilité alimentaire (Kcal/personne/jour)</th>\n",
       "      <th>Disponibilité alimentaire en quantité (kg/personne/an)</th>\n",
       "      <th>Disponibilité de matière grasse en quantité (g/personne/jour)</th>\n",
       "      <th>Disponibilité de protéines en quantité (g/personne/jour)</th>\n",
       "      <th>Disponibilité intérieure</th>\n",
       "      <th>...</th>\n",
       "      <th>Production</th>\n",
       "      <th>Semences</th>\n",
       "      <th>Traitement</th>\n",
       "      <th>Variation de stock</th>\n",
       "      <th>Population</th>\n",
       "      <th>dispo_kcal</th>\n",
       "      <th>Dispo_totale</th>\n",
       "      <th>Disponibilité(Kcal/personne/jour) par_pays</th>\n",
       "      <th>Année</th>\n",
       "      <th>sous_nutrition</th>\n",
       "    </tr>\n",
       "  </thead>\n",
       "  <tbody>\n",
       "    <tr>\n",
       "      <th>0</th>\n",
       "      <td>Thaïlande</td>\n",
       "      <td>Abats Comestible</td>\n",
       "      <td>animale</td>\n",
       "      <td>0.0</td>\n",
       "      <td>0.0</td>\n",
       "      <td>3.0</td>\n",
       "      <td>1.11</td>\n",
       "      <td>0.09</td>\n",
       "      <td>0.56</td>\n",
       "      <td>74000000.0</td>\n",
       "      <td>...</td>\n",
       "      <td>4.500000e+07</td>\n",
       "      <td>0.0</td>\n",
       "      <td>0.0</td>\n",
       "      <td>0.0</td>\n",
       "      <td>69209810.0</td>\n",
       "      <td>207629430.0</td>\n",
       "      <td>73000000.0</td>\n",
       "      <td>2785.0</td>\n",
       "      <td>2017</td>\n",
       "      <td>6200000.0</td>\n",
       "    </tr>\n",
       "    <tr>\n",
       "      <th>1</th>\n",
       "      <td>Thaïlande</td>\n",
       "      <td>Agrumes, Autres</td>\n",
       "      <td>vegetale</td>\n",
       "      <td>0.0</td>\n",
       "      <td>0.0</td>\n",
       "      <td>0.0</td>\n",
       "      <td>0.09</td>\n",
       "      <td>0.00</td>\n",
       "      <td>0.00</td>\n",
       "      <td>8000000.0</td>\n",
       "      <td>...</td>\n",
       "      <td>1.200000e+07</td>\n",
       "      <td>0.0</td>\n",
       "      <td>2000000.0</td>\n",
       "      <td>0.0</td>\n",
       "      <td>69209810.0</td>\n",
       "      <td>0.0</td>\n",
       "      <td>8000000.0</td>\n",
       "      <td>2785.0</td>\n",
       "      <td>2017</td>\n",
       "      <td>6200000.0</td>\n",
       "    </tr>\n",
       "    <tr>\n",
       "      <th>2</th>\n",
       "      <td>Thaïlande</td>\n",
       "      <td>Alcool, non Comestible</td>\n",
       "      <td>vegetale</td>\n",
       "      <td>0.0</td>\n",
       "      <td>358000000.0</td>\n",
       "      <td>0.0</td>\n",
       "      <td>0.00</td>\n",
       "      <td>0.00</td>\n",
       "      <td>0.00</td>\n",
       "      <td>358000000.0</td>\n",
       "      <td>...</td>\n",
       "      <td>4.470000e+08</td>\n",
       "      <td>0.0</td>\n",
       "      <td>0.0</td>\n",
       "      <td>0.0</td>\n",
       "      <td>69209810.0</td>\n",
       "      <td>0.0</td>\n",
       "      <td>358000000.0</td>\n",
       "      <td>2785.0</td>\n",
       "      <td>2017</td>\n",
       "      <td>6200000.0</td>\n",
       "    </tr>\n",
       "    <tr>\n",
       "      <th>3</th>\n",
       "      <td>Thaïlande</td>\n",
       "      <td>Aliments pour enfants</td>\n",
       "      <td>vegetale</td>\n",
       "      <td>0.0</td>\n",
       "      <td>0.0</td>\n",
       "      <td>2.0</td>\n",
       "      <td>0.18</td>\n",
       "      <td>0.01</td>\n",
       "      <td>0.08</td>\n",
       "      <td>12000000.0</td>\n",
       "      <td>...</td>\n",
       "      <td>0.000000e+00</td>\n",
       "      <td>0.0</td>\n",
       "      <td>0.0</td>\n",
       "      <td>0.0</td>\n",
       "      <td>69209810.0</td>\n",
       "      <td>138419620.0</td>\n",
       "      <td>12000000.0</td>\n",
       "      <td>2785.0</td>\n",
       "      <td>2017</td>\n",
       "      <td>6200000.0</td>\n",
       "    </tr>\n",
       "    <tr>\n",
       "      <th>4</th>\n",
       "      <td>Thaïlande</td>\n",
       "      <td>Ananas</td>\n",
       "      <td>vegetale</td>\n",
       "      <td>0.0</td>\n",
       "      <td>0.0</td>\n",
       "      <td>10.0</td>\n",
       "      <td>10.02</td>\n",
       "      <td>0.04</td>\n",
       "      <td>0.08</td>\n",
       "      <td>782000000.0</td>\n",
       "      <td>...</td>\n",
       "      <td>2.209000e+09</td>\n",
       "      <td>0.0</td>\n",
       "      <td>0.0</td>\n",
       "      <td>13000000.0</td>\n",
       "      <td>69209810.0</td>\n",
       "      <td>692098100.0</td>\n",
       "      <td>756000000.0</td>\n",
       "      <td>2785.0</td>\n",
       "      <td>2017</td>\n",
       "      <td>6200000.0</td>\n",
       "    </tr>\n",
       "  </tbody>\n",
       "</table>\n",
       "<p>5 rows × 24 columns</p>\n",
       "</div>"
      ],
      "text/plain": [
       "        Zone                 Produit   Origine  Aliments pour animaux  \\\n",
       "0  Thaïlande        Abats Comestible   animale                    0.0   \n",
       "1  Thaïlande         Agrumes, Autres  vegetale                    0.0   \n",
       "2  Thaïlande  Alcool, non Comestible  vegetale                    0.0   \n",
       "3  Thaïlande   Aliments pour enfants  vegetale                    0.0   \n",
       "4  Thaïlande                  Ananas  vegetale                    0.0   \n",
       "\n",
       "   Autres Utilisations  Disponibilité alimentaire (Kcal/personne/jour)  \\\n",
       "0                  0.0                                             3.0   \n",
       "1                  0.0                                             0.0   \n",
       "2          358000000.0                                             0.0   \n",
       "3                  0.0                                             2.0   \n",
       "4                  0.0                                            10.0   \n",
       "\n",
       "   Disponibilité alimentaire en quantité (kg/personne/an)  \\\n",
       "0                                               1.11        \n",
       "1                                               0.09        \n",
       "2                                               0.00        \n",
       "3                                               0.18        \n",
       "4                                              10.02        \n",
       "\n",
       "   Disponibilité de matière grasse en quantité (g/personne/jour)  \\\n",
       "0                                               0.09               \n",
       "1                                               0.00               \n",
       "2                                               0.00               \n",
       "3                                               0.01               \n",
       "4                                               0.04               \n",
       "\n",
       "   Disponibilité de protéines en quantité (g/personne/jour)  \\\n",
       "0                                               0.56          \n",
       "1                                               0.00          \n",
       "2                                               0.00          \n",
       "3                                               0.08          \n",
       "4                                               0.08          \n",
       "\n",
       "   Disponibilité intérieure  ...    Production  Semences  Traitement  \\\n",
       "0                74000000.0  ...  4.500000e+07       0.0         0.0   \n",
       "1                 8000000.0  ...  1.200000e+07       0.0   2000000.0   \n",
       "2               358000000.0  ...  4.470000e+08       0.0         0.0   \n",
       "3                12000000.0  ...  0.000000e+00       0.0         0.0   \n",
       "4               782000000.0  ...  2.209000e+09       0.0         0.0   \n",
       "\n",
       "   Variation de stock  Population   dispo_kcal  Dispo_totale  \\\n",
       "0                 0.0  69209810.0  207629430.0    73000000.0   \n",
       "1                 0.0  69209810.0          0.0     8000000.0   \n",
       "2                 0.0  69209810.0          0.0   358000000.0   \n",
       "3                 0.0  69209810.0  138419620.0    12000000.0   \n",
       "4          13000000.0  69209810.0  692098100.0   756000000.0   \n",
       "\n",
       "   Disponibilité(Kcal/personne/jour) par_pays  Année  sous_nutrition  \n",
       "0                                      2785.0   2017       6200000.0  \n",
       "1                                      2785.0   2017       6200000.0  \n",
       "2                                      2785.0   2017       6200000.0  \n",
       "3                                      2785.0   2017       6200000.0  \n",
       "4                                      2785.0   2017       6200000.0  \n",
       "\n",
       "[5 rows x 24 columns]"
      ]
     },
     "execution_count": 91,
     "metadata": {},
     "output_type": "execute_result"
    }
   ],
   "source": [
    "#création d'un dataframe avec uniquement la Thaïlande\n",
    "#Je cible 2017\n",
    "Data_dispo_Thailande = Data_dispo[Data_dispo[\"Zone\"] == \"Thaïlande\"]\n",
    "Data_Thailande = Data_dispo_Thailande.merge(sous_nutrition_2017, on=\"Zone\", how='left')\n",
    "Data_Thailande.head()"
   ]
  },
  {
   "cell_type": "code",
   "execution_count": 92,
   "id": "675f435b-afa3-453c-a057-2345bf8d6c42",
   "metadata": {},
   "outputs": [
    {
     "data": {
      "text/plain": [
       "Zone                                                             0\n",
       "Produit                                                          0\n",
       "Origine                                                          0\n",
       "Aliments pour animaux                                            0\n",
       "Autres Utilisations                                              0\n",
       "Disponibilité alimentaire (Kcal/personne/jour)                   0\n",
       "Disponibilité alimentaire en quantité (kg/personne/an)           0\n",
       "Disponibilité de matière grasse en quantité (g/personne/jour)    0\n",
       "Disponibilité de protéines en quantité (g/personne/jour)         0\n",
       "Disponibilité intérieure                                         0\n",
       "Exportations - Quantité                                          0\n",
       "Importations - Quantité                                          0\n",
       "Nourriture                                                       0\n",
       "Pertes                                                           0\n",
       "Production                                                       0\n",
       "Semences                                                         0\n",
       "Traitement                                                       0\n",
       "Variation de stock                                               0\n",
       "Population                                                       0\n",
       "dispo_kcal                                                       0\n",
       "Dispo_totale                                                     0\n",
       "Disponibilité(Kcal/personne/jour) par_pays                       0\n",
       "Année                                                            0\n",
       "sous_nutrition                                                   0\n",
       "dtype: int64"
      ]
     },
     "execution_count": 92,
     "metadata": {},
     "output_type": "execute_result"
    }
   ],
   "source": [
    "#Vérifications des NaN\n",
    "Data_Thailande.isna().sum()"
   ]
  },
  {
   "cell_type": "code",
   "execution_count": 93,
   "id": "ab89f6c1-acc6-4079-bb7f-0dfee2307801",
   "metadata": {},
   "outputs": [
    {
     "name": "stdout",
     "output_type": "stream",
     "text": [
      "Empty DataFrame\n",
      "Columns: [Zone, Produit, Origine, Aliments pour animaux, Autres Utilisations, Disponibilité alimentaire (Kcal/personne/jour), Disponibilité alimentaire en quantité (kg/personne/an), Disponibilité de matière grasse en quantité (g/personne/jour), Disponibilité de protéines en quantité (g/personne/jour), Disponibilité intérieure, Exportations - Quantité, Importations - Quantité, Nourriture, Pertes, Production, Semences, Traitement, Variation de stock, Population, dispo_kcal, Dispo_totale, Disponibilité(Kcal/personne/jour) par_pays, Année, sous_nutrition]\n",
      "Index: []\n",
      "\n",
      "[0 rows x 24 columns]\n"
     ]
    }
   ],
   "source": [
    "# Vérification des doublons\n",
    "doublons_Data_Thailande = Data_Thailande[Data_Thailande.duplicated(subset=[\"Zone\", \"Produit\"], keep=False)]\n",
    "print(doublons_Data_Thailande)"
   ]
  },
  {
   "cell_type": "code",
   "execution_count": 94,
   "id": "85693912",
   "metadata": {},
   "outputs": [
    {
     "data": {
      "text/plain": [
       "0     8.958268\n",
       "1     8.958268\n",
       "2     8.958268\n",
       "3     8.958268\n",
       "4     8.958268\n",
       "        ...   \n",
       "90    8.958268\n",
       "91    8.958268\n",
       "92    8.958268\n",
       "93    8.958268\n",
       "94    8.958268\n",
       "Length: 95, dtype: float64"
      ]
     },
     "execution_count": 94,
     "metadata": {},
     "output_type": "execute_result"
    }
   ],
   "source": [
    "#Calcul de la sous nutrition en Thaïlande\n",
    "Data_Thailande[\"sous_nutrition\"] / Data_Thailande[\"Population\"] *100"
   ]
  },
  {
   "cell_type": "code",
   "execution_count": 95,
   "id": "2b893e86-4496-46b9-9333-40aa38514036",
   "metadata": {},
   "outputs": [
    {
     "data": {
      "text/plain": [
       "(50    3.022800e+10\n",
       " Name: Production, dtype: float64,\n",
       " 50    2.521400e+10\n",
       " Name: Exportations - Quantité, dtype: float64)"
      ]
     },
     "execution_count": 95,
     "metadata": {},
     "output_type": "execute_result"
    }
   ],
   "source": [
    "#Filtrage pour le Manioc\n",
    "Data_Thailande_manioc= Data_Thailande[Data_Thailande['Produit'] == 'Manioc']\n",
    "Data_Thailande_manioc[\"Production\"], Data_Thailande_manioc[\"Exportations - Quantité\"]"
   ]
  },
  {
   "cell_type": "code",
   "execution_count": 96,
   "id": "5699e128-ae37-40a8-aa9a-71724432e834",
   "metadata": {},
   "outputs": [
    {
     "name": "stdout",
     "output_type": "stream",
     "text": [
      "Production de Manioc en kg : 30228000000.0\n"
     ]
    }
   ],
   "source": [
    "# Affichage de la production de manioc\n",
    "Data_Thailande_manioc= Data_Thailande[Data_Thailande['Produit'] == 'Manioc']\n",
    "print(\"Production de Manioc en kg :\", Data_Thailande_manioc[\"Production\"].loc[50])"
   ]
  },
  {
   "cell_type": "code",
   "execution_count": 97,
   "id": "a41ba9a4-ccea-4b59-b94b-c710baa1572d",
   "metadata": {},
   "outputs": [
    {
     "name": "stdout",
     "output_type": "stream",
     "text": [
      "Exportation de Manioc en kg : 25214000000.0\n"
     ]
    }
   ],
   "source": [
    "# Affichage de l'exportation de manioc\n",
    "print(\"Exportation de Manioc en kg :\", Data_Thailande_manioc[\"Exportations - Quantité\"].loc[50])"
   ]
  },
  {
   "cell_type": "code",
   "execution_count": 98,
   "id": "f19cd96e",
   "metadata": {},
   "outputs": [
    {
     "name": "stdout",
     "output_type": "stream",
     "text": [
      "Proportion de manioc exporté : 83.41272991928014  %\n"
     ]
    }
   ],
   "source": [
    "# On calcule la proportion exportée en fonction de la proportion\n",
    "print(\"Proportion de manioc exporté :\", Data_Thailande_manioc[\"Exportations - Quantité\"].loc[50] /Data_Thailande_manioc[\"Production\"].loc[50] * 100, \" %\")"
   ]
  },
  {
   "cell_type": "markdown",
   "id": "7de4e914",
   "metadata": {},
   "source": [
    "<div style=\"background-color: RGB(0,150,250);\" >\n",
    "<h2 style=\"margin: auto; padding: 20px; color:#fff; \">Etape 6 - Analyse complémentaires</h2>\n",
    "</div>"
   ]
  },
  {
   "cell_type": "code",
   "execution_count": 99,
   "id": "e42062e9",
   "metadata": {},
   "outputs": [],
   "source": [
    "#ajouter en dessous toutes les analyses complémtaires\n",
    "#Analyse de l'évolution de l'aide alimentaire de 2013 à 2016"
   ]
  },
  {
   "cell_type": "code",
   "execution_count": 107,
   "id": "980a8868-1a72-49c4-bfa8-297a89cc22f9",
   "metadata": {},
   "outputs": [
    {
     "name": "stdout",
     "output_type": "stream",
     "text": [
      "Année\n",
      "2013    4165674000000\n",
      "2014    3939152000000\n",
      "2015    2187507000000\n",
      "2016     743568000000\n",
      "Name: Valeur, dtype: int64\n"
     ]
    }
   ],
   "source": [
    "evolution_aide = aide_alimentaire.groupby('Année')['Valeur'].sum()\n",
    "print(evolution_aide)"
   ]
  },
  {
   "cell_type": "code",
   "execution_count": 106,
   "id": "ee020f9b-c9e7-42d2-b470-96a44e533b96",
   "metadata": {},
   "outputs": [
    {
     "data": {
      "image/png": "[encoded data removed]",
      "text/plain": [
       "<Figure size 500x500 with 1 Axes>"
      ]
     },
     "metadata": {},
     "output_type": "display_data"
    }
   ],
   "source": [
    "evolution_aide = evolution_aide.reset_index()\n",
    "g = sns.relplot(data = evolution_aide, x='Année', y ='Valeur', kind='line')\n",
    "g.fig.suptitle(\"Evolution de l'aide alimentaire de 2013 à 2016\", y=1.05)  \n",
    "plt.show()"
   ]
  },
  {
   "cell_type": "code",
   "execution_count": null,
   "id": "14a32fa3-c2a2-4ac1-9a89-6e336b1fc1c3",
   "metadata": {},
   "outputs": [],
   "source": []
  }
 ],
 "metadata": {
  "kernelspec": {
   "display_name": "Python 3 (ipykernel)",
   "language": "python",
   "name": "python3"
  },
  "language_info": {
   "codemirror_mode": {
    "name": "ipython",
    "version": 3
   },
   "file_extension": ".py",
   "mimetype": "text/x-python",
   "name": "python",
   "nbconvert_exporter": "python",
   "pygments_lexer": "ipython3",
   "version": "3.12.5"
  }
 },
 "nbformat": 4,
 "nbformat_minor": 5
}
